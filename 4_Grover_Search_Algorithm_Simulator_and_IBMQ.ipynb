{
  "cells": [
    {
      "cell_type": "code",
      "execution_count": 1,
      "id": "BgTVxIOmVWqf",
      "metadata": {
        "colab": {
          "base_uri": "https://localhost:8080/"
        },
        "collapsed": true,
        "id": "BgTVxIOmVWqf",
        "outputId": "e601b071-ab89-4a8a-a70a-576cfcdb1108"
      },
      "outputs": [
        {
          "name": "stdout",
          "output_type": "stream",
          "text": [
            "Requirement already satisfied: qiskit in /Users/vincent/miniforge3/envs/quantum/lib/python3.13/site-packages (1.3.1)\n",
            "Requirement already satisfied: rustworkx>=0.15.0 in /Users/vincent/miniforge3/envs/quantum/lib/python3.13/site-packages (from qiskit) (0.15.1)\n",
            "Requirement already satisfied: numpy<3,>=1.17 in /Users/vincent/miniforge3/envs/quantum/lib/python3.13/site-packages (from qiskit) (2.2.1)\n",
            "Requirement already satisfied: scipy>=1.5 in /Users/vincent/miniforge3/envs/quantum/lib/python3.13/site-packages (from qiskit) (1.15.1)\n",
            "Requirement already satisfied: sympy>=1.3 in /Users/vincent/miniforge3/envs/quantum/lib/python3.13/site-packages (from qiskit) (1.13.3)\n",
            "Requirement already satisfied: dill>=0.3 in /Users/vincent/miniforge3/envs/quantum/lib/python3.13/site-packages (from qiskit) (0.3.9)\n",
            "Requirement already satisfied: python-dateutil>=2.8.0 in /Users/vincent/miniforge3/envs/quantum/lib/python3.13/site-packages (from qiskit) (2.9.0.post0)\n",
            "Requirement already satisfied: stevedore>=3.0.0 in /Users/vincent/miniforge3/envs/quantum/lib/python3.13/site-packages (from qiskit) (5.4.0)\n",
            "Requirement already satisfied: typing-extensions in /Users/vincent/miniforge3/envs/quantum/lib/python3.13/site-packages (from qiskit) (4.12.2)\n",
            "Requirement already satisfied: symengine<0.14,>=0.11 in /Users/vincent/miniforge3/envs/quantum/lib/python3.13/site-packages (from qiskit) (0.13.0)\n",
            "Requirement already satisfied: six>=1.5 in /Users/vincent/miniforge3/envs/quantum/lib/python3.13/site-packages (from python-dateutil>=2.8.0->qiskit) (1.17.0)\n",
            "Requirement already satisfied: pbr>=2.0.0 in /Users/vincent/miniforge3/envs/quantum/lib/python3.13/site-packages (from stevedore>=3.0.0->qiskit) (6.1.0)\n",
            "Requirement already satisfied: mpmath<1.4,>=1.1.0 in /Users/vincent/miniforge3/envs/quantum/lib/python3.13/site-packages (from sympy>=1.3->qiskit) (1.3.0)\n",
            "Note: you may need to restart the kernel to use updated packages.\n",
            "Requirement already satisfied: qiskit-aer in /Users/vincent/miniforge3/envs/quantum/lib/python3.13/site-packages (0.16.0)\n",
            "Requirement already satisfied: qiskit>=1.1.0 in /Users/vincent/miniforge3/envs/quantum/lib/python3.13/site-packages (from qiskit-aer) (1.3.1)\n",
            "Requirement already satisfied: numpy>=1.16.3 in /Users/vincent/miniforge3/envs/quantum/lib/python3.13/site-packages (from qiskit-aer) (2.2.1)\n",
            "Requirement already satisfied: scipy>=1.0 in /Users/vincent/miniforge3/envs/quantum/lib/python3.13/site-packages (from qiskit-aer) (1.15.1)\n",
            "Requirement already satisfied: psutil>=5 in /Users/vincent/miniforge3/envs/quantum/lib/python3.13/site-packages (from qiskit-aer) (6.1.1)\n",
            "Requirement already satisfied: rustworkx>=0.15.0 in /Users/vincent/miniforge3/envs/quantum/lib/python3.13/site-packages (from qiskit>=1.1.0->qiskit-aer) (0.15.1)\n",
            "Requirement already satisfied: sympy>=1.3 in /Users/vincent/miniforge3/envs/quantum/lib/python3.13/site-packages (from qiskit>=1.1.0->qiskit-aer) (1.13.3)\n",
            "Requirement already satisfied: dill>=0.3 in /Users/vincent/miniforge3/envs/quantum/lib/python3.13/site-packages (from qiskit>=1.1.0->qiskit-aer) (0.3.9)\n",
            "Requirement already satisfied: python-dateutil>=2.8.0 in /Users/vincent/miniforge3/envs/quantum/lib/python3.13/site-packages (from qiskit>=1.1.0->qiskit-aer) (2.9.0.post0)\n",
            "Requirement already satisfied: stevedore>=3.0.0 in /Users/vincent/miniforge3/envs/quantum/lib/python3.13/site-packages (from qiskit>=1.1.0->qiskit-aer) (5.4.0)\n",
            "Requirement already satisfied: typing-extensions in /Users/vincent/miniforge3/envs/quantum/lib/python3.13/site-packages (from qiskit>=1.1.0->qiskit-aer) (4.12.2)\n",
            "Requirement already satisfied: symengine<0.14,>=0.11 in /Users/vincent/miniforge3/envs/quantum/lib/python3.13/site-packages (from qiskit>=1.1.0->qiskit-aer) (0.13.0)\n",
            "Requirement already satisfied: six>=1.5 in /Users/vincent/miniforge3/envs/quantum/lib/python3.13/site-packages (from python-dateutil>=2.8.0->qiskit>=1.1.0->qiskit-aer) (1.17.0)\n",
            "Requirement already satisfied: pbr>=2.0.0 in /Users/vincent/miniforge3/envs/quantum/lib/python3.13/site-packages (from stevedore>=3.0.0->qiskit>=1.1.0->qiskit-aer) (6.1.0)\n",
            "Requirement already satisfied: mpmath<1.4,>=1.1.0 in /Users/vincent/miniforge3/envs/quantum/lib/python3.13/site-packages (from sympy>=1.3->qiskit>=1.1.0->qiskit-aer) (1.3.0)\n",
            "Note: you may need to restart the kernel to use updated packages.\n",
            "Requirement already satisfied: pylatexenc in /Users/vincent/miniforge3/envs/quantum/lib/python3.13/site-packages (2.10)\n",
            "Note: you may need to restart the kernel to use updated packages.\n",
            "Requirement already satisfied: qiskit-ibm-runtime in /Users/vincent/miniforge3/envs/quantum/lib/python3.13/site-packages (0.34.0)\n",
            "Requirement already satisfied: requests>=2.19 in /Users/vincent/miniforge3/envs/quantum/lib/python3.13/site-packages (from qiskit-ibm-runtime) (2.32.3)\n",
            "Requirement already satisfied: requests-ntlm>=1.1.0 in /Users/vincent/miniforge3/envs/quantum/lib/python3.13/site-packages (from qiskit-ibm-runtime) (1.3.0)\n",
            "Requirement already satisfied: numpy>=1.13 in /Users/vincent/miniforge3/envs/quantum/lib/python3.13/site-packages (from qiskit-ibm-runtime) (2.2.1)\n",
            "Requirement already satisfied: urllib3>=1.21.1 in /Users/vincent/miniforge3/envs/quantum/lib/python3.13/site-packages (from qiskit-ibm-runtime) (2.3.0)\n",
            "Requirement already satisfied: python-dateutil>=2.8.0 in /Users/vincent/miniforge3/envs/quantum/lib/python3.13/site-packages (from qiskit-ibm-runtime) (2.9.0.post0)\n",
            "Requirement already satisfied: websocket-client>=1.5.1 in /Users/vincent/miniforge3/envs/quantum/lib/python3.13/site-packages (from qiskit-ibm-runtime) (1.8.0)\n",
            "Requirement already satisfied: ibm-platform-services>=0.22.6 in /Users/vincent/miniforge3/envs/quantum/lib/python3.13/site-packages (from qiskit-ibm-runtime) (0.59.1)\n",
            "Requirement already satisfied: pydantic<2.10,>=2.5.0 in /Users/vincent/miniforge3/envs/quantum/lib/python3.13/site-packages (from qiskit-ibm-runtime) (2.9.2)\n",
            "Requirement already satisfied: qiskit>=1.1.0 in /Users/vincent/miniforge3/envs/quantum/lib/python3.13/site-packages (from qiskit-ibm-runtime) (1.3.1)\n",
            "Requirement already satisfied: ibm_cloud_sdk_core<4.0.0,>=3.22.0 in /Users/vincent/miniforge3/envs/quantum/lib/python3.13/site-packages (from ibm-platform-services>=0.22.6->qiskit-ibm-runtime) (3.22.1)\n",
            "Requirement already satisfied: annotated-types>=0.6.0 in /Users/vincent/miniforge3/envs/quantum/lib/python3.13/site-packages (from pydantic<2.10,>=2.5.0->qiskit-ibm-runtime) (0.7.0)\n",
            "Requirement already satisfied: pydantic-core==2.23.4 in /Users/vincent/miniforge3/envs/quantum/lib/python3.13/site-packages (from pydantic<2.10,>=2.5.0->qiskit-ibm-runtime) (2.23.4)\n",
            "Requirement already satisfied: typing-extensions>=4.12.2 in /Users/vincent/miniforge3/envs/quantum/lib/python3.13/site-packages (from pydantic<2.10,>=2.5.0->qiskit-ibm-runtime) (4.12.2)\n",
            "Requirement already satisfied: six>=1.5 in /Users/vincent/miniforge3/envs/quantum/lib/python3.13/site-packages (from python-dateutil>=2.8.0->qiskit-ibm-runtime) (1.17.0)\n",
            "Requirement already satisfied: rustworkx>=0.15.0 in /Users/vincent/miniforge3/envs/quantum/lib/python3.13/site-packages (from qiskit>=1.1.0->qiskit-ibm-runtime) (0.15.1)\n",
            "Requirement already satisfied: scipy>=1.5 in /Users/vincent/miniforge3/envs/quantum/lib/python3.13/site-packages (from qiskit>=1.1.0->qiskit-ibm-runtime) (1.15.1)\n",
            "Requirement already satisfied: sympy>=1.3 in /Users/vincent/miniforge3/envs/quantum/lib/python3.13/site-packages (from qiskit>=1.1.0->qiskit-ibm-runtime) (1.13.3)\n",
            "Requirement already satisfied: dill>=0.3 in /Users/vincent/miniforge3/envs/quantum/lib/python3.13/site-packages (from qiskit>=1.1.0->qiskit-ibm-runtime) (0.3.9)\n",
            "Requirement already satisfied: stevedore>=3.0.0 in /Users/vincent/miniforge3/envs/quantum/lib/python3.13/site-packages (from qiskit>=1.1.0->qiskit-ibm-runtime) (5.4.0)\n",
            "Requirement already satisfied: symengine<0.14,>=0.11 in /Users/vincent/miniforge3/envs/quantum/lib/python3.13/site-packages (from qiskit>=1.1.0->qiskit-ibm-runtime) (0.13.0)\n",
            "Requirement already satisfied: charset-normalizer<4,>=2 in /Users/vincent/miniforge3/envs/quantum/lib/python3.13/site-packages (from requests>=2.19->qiskit-ibm-runtime) (3.4.1)\n",
            "Requirement already satisfied: idna<4,>=2.5 in /Users/vincent/miniforge3/envs/quantum/lib/python3.13/site-packages (from requests>=2.19->qiskit-ibm-runtime) (3.10)\n",
            "Requirement already satisfied: certifi>=2017.4.17 in /Users/vincent/miniforge3/envs/quantum/lib/python3.13/site-packages (from requests>=2.19->qiskit-ibm-runtime) (2024.12.14)\n",
            "Requirement already satisfied: cryptography>=1.3 in /Users/vincent/miniforge3/envs/quantum/lib/python3.13/site-packages (from requests-ntlm>=1.1.0->qiskit-ibm-runtime) (44.0.0)\n",
            "Requirement already satisfied: pyspnego>=0.4.0 in /Users/vincent/miniforge3/envs/quantum/lib/python3.13/site-packages (from requests-ntlm>=1.1.0->qiskit-ibm-runtime) (0.11.2)\n",
            "Requirement already satisfied: cffi>=1.12 in /Users/vincent/miniforge3/envs/quantum/lib/python3.13/site-packages (from cryptography>=1.3->requests-ntlm>=1.1.0->qiskit-ibm-runtime) (1.17.1)\n",
            "Requirement already satisfied: PyJWT<3.0.0,>=2.8.0 in /Users/vincent/miniforge3/envs/quantum/lib/python3.13/site-packages (from ibm_cloud_sdk_core<4.0.0,>=3.22.0->ibm-platform-services>=0.22.6->qiskit-ibm-runtime) (2.10.1)\n",
            "Requirement already satisfied: pbr>=2.0.0 in /Users/vincent/miniforge3/envs/quantum/lib/python3.13/site-packages (from stevedore>=3.0.0->qiskit>=1.1.0->qiskit-ibm-runtime) (6.1.0)\n",
            "Requirement already satisfied: mpmath<1.4,>=1.1.0 in /Users/vincent/miniforge3/envs/quantum/lib/python3.13/site-packages (from sympy>=1.3->qiskit>=1.1.0->qiskit-ibm-runtime) (1.3.0)\n",
            "Requirement already satisfied: pycparser in /Users/vincent/miniforge3/envs/quantum/lib/python3.13/site-packages (from cffi>=1.12->cryptography>=1.3->requests-ntlm>=1.1.0->qiskit-ibm-runtime) (2.22)\n",
            "Note: you may need to restart the kernel to use updated packages.\n",
            "Collecting qiskit-ibm-provider\n",
            "  Downloading qiskit_ibm_provider-0.11.0-py3-none-any.whl.metadata (7.6 kB)\n",
            "Requirement already satisfied: qiskit>=0.45.0 in /Users/vincent/miniforge3/envs/quantum/lib/python3.13/site-packages (from qiskit-ibm-provider) (1.3.1)\n",
            "Requirement already satisfied: requests>=2.19 in /Users/vincent/miniforge3/envs/quantum/lib/python3.13/site-packages (from qiskit-ibm-provider) (2.32.3)\n",
            "Requirement already satisfied: requests-ntlm>=1.1.0 in /Users/vincent/miniforge3/envs/quantum/lib/python3.13/site-packages (from qiskit-ibm-provider) (1.3.0)\n",
            "Requirement already satisfied: numpy>=1.13 in /Users/vincent/miniforge3/envs/quantum/lib/python3.13/site-packages (from qiskit-ibm-provider) (2.2.1)\n",
            "Requirement already satisfied: urllib3>=1.21.1 in /Users/vincent/miniforge3/envs/quantum/lib/python3.13/site-packages (from qiskit-ibm-provider) (2.3.0)\n",
            "Requirement already satisfied: python-dateutil>=2.8.0 in /Users/vincent/miniforge3/envs/quantum/lib/python3.13/site-packages (from qiskit-ibm-provider) (2.9.0.post0)\n",
            "Requirement already satisfied: websocket-client>=1.5.1 in /Users/vincent/miniforge3/envs/quantum/lib/python3.13/site-packages (from qiskit-ibm-provider) (1.8.0)\n",
            "Collecting websockets>=10.0 (from qiskit-ibm-provider)\n",
            "  Downloading websockets-15.0.1-cp313-cp313-macosx_11_0_arm64.whl.metadata (6.8 kB)\n",
            "Requirement already satisfied: typing-extensions>=4.3 in /Users/vincent/miniforge3/envs/quantum/lib/python3.13/site-packages (from qiskit-ibm-provider) (4.12.2)\n",
            "Requirement already satisfied: six>=1.5 in /Users/vincent/miniforge3/envs/quantum/lib/python3.13/site-packages (from python-dateutil>=2.8.0->qiskit-ibm-provider) (1.17.0)\n",
            "Requirement already satisfied: rustworkx>=0.15.0 in /Users/vincent/miniforge3/envs/quantum/lib/python3.13/site-packages (from qiskit>=0.45.0->qiskit-ibm-provider) (0.15.1)\n",
            "Requirement already satisfied: scipy>=1.5 in /Users/vincent/miniforge3/envs/quantum/lib/python3.13/site-packages (from qiskit>=0.45.0->qiskit-ibm-provider) (1.15.1)\n",
            "Requirement already satisfied: sympy>=1.3 in /Users/vincent/miniforge3/envs/quantum/lib/python3.13/site-packages (from qiskit>=0.45.0->qiskit-ibm-provider) (1.13.3)\n",
            "Requirement already satisfied: dill>=0.3 in /Users/vincent/miniforge3/envs/quantum/lib/python3.13/site-packages (from qiskit>=0.45.0->qiskit-ibm-provider) (0.3.9)\n",
            "Requirement already satisfied: stevedore>=3.0.0 in /Users/vincent/miniforge3/envs/quantum/lib/python3.13/site-packages (from qiskit>=0.45.0->qiskit-ibm-provider) (5.4.0)\n",
            "Requirement already satisfied: symengine<0.14,>=0.11 in /Users/vincent/miniforge3/envs/quantum/lib/python3.13/site-packages (from qiskit>=0.45.0->qiskit-ibm-provider) (0.13.0)\n",
            "Requirement already satisfied: charset-normalizer<4,>=2 in /Users/vincent/miniforge3/envs/quantum/lib/python3.13/site-packages (from requests>=2.19->qiskit-ibm-provider) (3.4.1)\n",
            "Requirement already satisfied: idna<4,>=2.5 in /Users/vincent/miniforge3/envs/quantum/lib/python3.13/site-packages (from requests>=2.19->qiskit-ibm-provider) (3.10)\n",
            "Requirement already satisfied: certifi>=2017.4.17 in /Users/vincent/miniforge3/envs/quantum/lib/python3.13/site-packages (from requests>=2.19->qiskit-ibm-provider) (2024.12.14)\n",
            "Requirement already satisfied: cryptography>=1.3 in /Users/vincent/miniforge3/envs/quantum/lib/python3.13/site-packages (from requests-ntlm>=1.1.0->qiskit-ibm-provider) (44.0.0)\n",
            "Requirement already satisfied: pyspnego>=0.4.0 in /Users/vincent/miniforge3/envs/quantum/lib/python3.13/site-packages (from requests-ntlm>=1.1.0->qiskit-ibm-provider) (0.11.2)\n",
            "Requirement already satisfied: cffi>=1.12 in /Users/vincent/miniforge3/envs/quantum/lib/python3.13/site-packages (from cryptography>=1.3->requests-ntlm>=1.1.0->qiskit-ibm-provider) (1.17.1)\n",
            "Requirement already satisfied: pbr>=2.0.0 in /Users/vincent/miniforge3/envs/quantum/lib/python3.13/site-packages (from stevedore>=3.0.0->qiskit>=0.45.0->qiskit-ibm-provider) (6.1.0)\n",
            "Requirement already satisfied: mpmath<1.4,>=1.1.0 in /Users/vincent/miniforge3/envs/quantum/lib/python3.13/site-packages (from sympy>=1.3->qiskit>=0.45.0->qiskit-ibm-provider) (1.3.0)\n",
            "Requirement already satisfied: pycparser in /Users/vincent/miniforge3/envs/quantum/lib/python3.13/site-packages (from cffi>=1.12->cryptography>=1.3->requests-ntlm>=1.1.0->qiskit-ibm-provider) (2.22)\n",
            "Downloading qiskit_ibm_provider-0.11.0-py3-none-any.whl (249 kB)\n",
            "Downloading websockets-15.0.1-cp313-cp313-macosx_11_0_arm64.whl (173 kB)\n",
            "Installing collected packages: websockets, qiskit-ibm-provider\n",
            "Successfully installed qiskit-ibm-provider-0.11.0 websockets-15.0.1\n",
            "Note: you may need to restart the kernel to use updated packages.\n"
          ]
        }
      ],
      "source": [
        "%pip install qiskit # the primary quantum programming framework\n",
        "%pip install qiskit-aer # for simulation\n",
        "%pip install pylatexenc # for visualization\n",
        "%pip install qiskit-ibm-runtime # for IBM Quantum devices\n",
        "%pip install qiskit-ibm-provider # for accessing IBM quantum hardware"
      ]
    },
    {
      "cell_type": "markdown",
      "id": "5b094a03",
      "metadata": {
        "id": "5b094a03"
      },
      "source": [
        "# Implementing Grover's algorithm for the case of 2 qubits with the winning state of |w⟩=|11⟩"
      ]
    },
    {
      "cell_type": "code",
      "execution_count": 2,
      "id": "224372f5",
      "metadata": {
        "id": "224372f5"
      },
      "outputs": [],
      "source": [
        "#initialization\n",
        "#import matplotlib.pyplot as plt\n",
        "#import numpy as np\n",
        "\n",
        "# importing Qiskit\n",
        "from qiskit import QuantumCircuit, transpile, ClassicalRegister, QuantumRegister\n",
        "from qiskit_aer import AerSimulator\n",
        "#from qiskit.providers.ibmq import least_busy\n",
        "\n",
        "# import basic plot tools\n",
        "from qiskit.visualization import plot_histogram"
      ]
    },
    {
      "cell_type": "code",
      "execution_count": 3,
      "id": "80a531e0",
      "metadata": {
        "id": "80a531e0"
      },
      "outputs": [],
      "source": [
        "# set the length of the n-bit input string.\n",
        "n = 2"
      ]
    },
    {
      "cell_type": "markdown",
      "id": "4c80b80c",
      "metadata": {
        "id": "4c80b80c"
      },
      "source": [
        "## Create the circuit and initalize the qubits"
      ]
    },
    {
      "cell_type": "code",
      "execution_count": 4,
      "id": "61cbb196",
      "metadata": {
        "colab": {
          "base_uri": "https://localhost:8080/",
          "height": 191
        },
        "id": "61cbb196",
        "outputId": "d7c77e47-5a0e-4e17-f57b-ee3ed4aa0d49"
      },
      "outputs": [
        {
          "data": {
            "image/png": "[encoded data removed]",
            "text/plain": [
              "<Figure size 203.683x200.667 with 1 Axes>"
            ]
          },
          "execution_count": 4,
          "metadata": {},
          "output_type": "execute_result"
        }
      ],
      "source": [
        "grover_circuit = QuantumCircuit(n)\n",
        "\n",
        "def initialize_s(qc, qubits):\n",
        "    \"\"\"Apply a H-gate to 'qubits' in qc\"\"\"\n",
        "    for q in qubits:\n",
        "        qc.h(q)\n",
        "    return qc\n",
        "grover_circuit = initialize_s(grover_circuit, [0,1])\n",
        "grover_circuit.draw(output='mpl', style=\"clifford\")"
      ]
    },
    {
      "cell_type": "markdown",
      "id": "ed40a637",
      "metadata": {
        "id": "ed40a637"
      },
      "source": [
        "## Apply the Oracle (phase inversion) for |w⟩=|11⟩ (Controlled-Z gate in this case)"
      ]
    },
    {
      "cell_type": "code",
      "execution_count": 5,
      "id": "dccdbf02",
      "metadata": {
        "colab": {
          "base_uri": "https://localhost:8080/",
          "height": 191
        },
        "id": "dccdbf02",
        "outputId": "4c9e927e-bf6b-4fbd-e7be-73d415c577cf"
      },
      "outputs": [
        {
          "data": {
            "image/png": "[encoded data removed]",
            "text/plain": [
              "<Figure size 370.906x200.667 with 1 Axes>"
            ]
          },
          "execution_count": 5,
          "metadata": {},
          "output_type": "execute_result"
        }
      ],
      "source": [
        "grover_circuit.barrier()\n",
        "grover_circuit.cz(0,1) # Oracle\n",
        "grover_circuit.draw(output='mpl')"
      ]
    },
    {
      "cell_type": "markdown",
      "id": "4400be48",
      "metadata": {
        "id": "4400be48"
      },
      "source": [
        "## Apply the diffuser (inversion about the mean)"
      ]
    },
    {
      "cell_type": "code",
      "execution_count": 6,
      "id": "d1e0f987",
      "metadata": {
        "colab": {
          "base_uri": "https://localhost:8080/",
          "height": 191
        },
        "id": "d1e0f987",
        "outputId": "00953eaa-2db6-4f3a-c86a-abca32611084"
      },
      "outputs": [
        {
          "data": {
            "image/png": "[encoded data removed]",
            "text/plain": [
              "<Figure size 872.572x200.667 with 1 Axes>"
            ]
          },
          "execution_count": 6,
          "metadata": {},
          "output_type": "execute_result"
        }
      ],
      "source": [
        "# Diffusion operator (U_s)\n",
        "grover_circuit.barrier()\n",
        "grover_circuit.h([0,1])\n",
        "grover_circuit.z([0,1])\n",
        "grover_circuit.cz(0,1)\n",
        "grover_circuit.h([0,1])\n",
        "grover_circuit.barrier()\n",
        "\n",
        "grover_circuit.draw(output='mpl')"
      ]
    },
    {
      "cell_type": "markdown",
      "id": "f666b391",
      "metadata": {
        "id": "f666b391"
      },
      "source": [
        "## Apply measurement"
      ]
    },
    {
      "cell_type": "code",
      "execution_count": 7,
      "id": "e6c4c857",
      "metadata": {
        "colab": {
          "base_uri": "https://localhost:8080/",
          "height": 247
        },
        "id": "e6c4c857",
        "outputId": "d357f0a3-7bf7-4926-f032-873c45e7bb02"
      },
      "outputs": [
        {
          "data": {
            "image/png": "[encoded data removed]",
            "text/plain": [
              "<Figure size 1165.66x284.278 with 1 Axes>"
            ]
          },
          "execution_count": 7,
          "metadata": {},
          "output_type": "execute_result"
        }
      ],
      "source": [
        "grover_circuit.measure_all()\n",
        "grover_circuit.draw(output='mpl')"
      ]
    },
    {
      "cell_type": "markdown",
      "id": "79cf3b46",
      "metadata": {
        "id": "79cf3b46"
      },
      "source": [
        "## Run the circuit on a noise-free simulator\n",
        "\n",
        "---\n",
        "\n",
        "\n",
        "\n",
        "```\n",
        "# This is formatted as code\n",
        "```\n",
        "\n",
        "simulator"
      ]
    },
    {
      "cell_type": "code",
      "execution_count": 8,
      "id": "9f783e99",
      "metadata": {
        "colab": {
          "base_uri": "https://localhost:8080/",
          "height": 437
        },
        "id": "9f783e99",
        "outputId": "aa935861-3171-4dcb-b6b0-52e123656efd"
      },
      "outputs": [
        {
          "data": {
            "image/png": "[encoded data removed]",
            "text/plain": [
              "<Figure size 640x480 with 1 Axes>"
            ]
          },
          "execution_count": 8,
          "metadata": {},
          "output_type": "execute_result"
        }
      ],
      "source": [
        "aer_sim = sim = AerSimulator(method='statevector') # Use a noise-free simulator\n",
        "qobj = transpile(grover_circuit, aer_sim)\n",
        "result = aer_sim.run(qobj).result()\n",
        "counts = result.get_counts()\n",
        "plot_histogram(counts)"
      ]
    },
    {
      "cell_type": "markdown",
      "id": "90eddce9",
      "metadata": {
        "id": "90eddce9"
      },
      "source": [
        "## Run the circuit on IBM quantum (IBM Q)"
      ]
    },
    {
      "cell_type": "markdown",
      "id": "c38a8b05",
      "metadata": {
        "id": "c38a8b05"
      },
      "source": [
        "### Preparation for accessing IBM Q: store your IBM Q credential on your local computer\n",
        "Step 1: Create an IBM Quantum account or log in to your existing account (visit the [IBM Quantum login page](https://quantum-computing.ibm.com/login)). <br>\n",
        "Step 2: Copy your API token (or optionally regenerate one) from your [IBM Quantum account page](https://quantum-computing.ibm.com/account)\n",
        "<br>\n",
        "Step 3: Run the funciton IBMProvider.save_account(token='MY_API_TOKEN') below (replace API_Token with your copied API toke).\n",
        "<br>\n",
        "For more information: https://pypi.org/project/qiskit-ibm-provider/"
      ]
    },
    {
      "cell_type": "code",
      "execution_count": 9,
      "id": "daf1f144",
      "metadata": {
        "id": "daf1f144"
      },
      "outputs": [],
      "source": [
        "#!pip install qiskit_ibm_provider"
      ]
    },
    {
      "cell_type": "markdown",
      "id": "uH73PLBGfYtT",
      "metadata": {
        "id": "uH73PLBGfYtT"
      },
      "source": [
        "## Run the circuit on a simulator simulating a quantum device (QPU)\n",
        "https://docs.quantum.ibm.com/guides/local-testing-mode\n"
      ]
    },
    {
      "cell_type": "code",
      "execution_count": 10,
      "id": "Kszm53ija558",
      "metadata": {
        "id": "Kszm53ija558"
      },
      "outputs": [],
      "source": [
        "# Run our circuit on the backend.\n",
        "from qiskit_ibm_runtime import QiskitRuntimeService, Sampler\n",
        "\n",
        "# Replace 'YOUR_API_TOKEN' with your actual IBM Quantum API token\n",
        "token='MY_API_TOKEN'\n",
        "QiskitRuntimeService.save_account(\n",
        "  token=token,\n",
        "  channel=\"ibm_quantum\", # `channel` distinguishes between different account types\n",
        "  overwrite=True\n",
        ")\n",
        "\n",
        "service = QiskitRuntimeService()"
      ]
    },
    {
      "cell_type": "code",
      "execution_count": 11,
      "id": "3mbqbmgtdusg",
      "metadata": {
        "colab": {
          "base_uri": "https://localhost:8080/",
          "height": 437
        },
        "id": "3mbqbmgtdusg",
        "outputId": "f7cc9f4a-26ee-4918-95f3-1bbb2f4ed5b8"
      },
      "outputs": [
        {
          "data": {
            "image/png": "[encoded data removed]",
            "text/plain": [
              "<Figure size 640x480 with 1 Axes>"
            ]
          },
          "execution_count": 11,
          "metadata": {},
          "output_type": "execute_result"
        }
      ],
      "source": [
        "# Specify the backend to use\n",
        "backend = service.backend(\"ibm_sherbrooke\")\n",
        "sim_backend = AerSimulator.from_backend(backend)\n",
        "\n",
        "qobj = transpile(grover_circuit, sim_backend)\n",
        "result = sim_backend.run(qobj, shots = 4096).result()\n",
        "counts = result.get_counts()\n",
        "plot_histogram(counts)"
      ]
    },
    {
      "cell_type": "markdown",
      "id": "FjOAT3DEfxNW",
      "metadata": {
        "id": "FjOAT3DEfxNW"
      },
      "source": [
        "## Run the circuit on a real quantum device (QPU)"
      ]
    },
    {
      "cell_type": "code",
      "execution_count": 12,
      "id": "8Ljdt1FfYwXw",
      "metadata": {
        "id": "8Ljdt1FfYwXw"
      },
      "outputs": [],
      "source": [
        "# Run our circuit on the backend.\n",
        "from qiskit_ibm_runtime import QiskitRuntimeService, Sampler\n",
        "\n",
        "# Replace 'YOUR_API_TOKEN' with your actual IBM Quantum API token\n",
        "token='MY_API_TOKEN'\n",
        "QiskitRuntimeService.save_account(\n",
        "  token=token,\n",
        "  channel=\"ibm_quantum\", # `channel` distinguishes between different account types\n",
        "  overwrite=True\n",
        ")\n",
        "\n",
        "service = QiskitRuntimeService()"
      ]
    },
    {
      "cell_type": "code",
      "execution_count": 13,
      "id": "uaqN2ePrgyRb",
      "metadata": {
        "colab": {
          "base_uri": "https://localhost:8080/"
        },
        "id": "uaqN2ePrgyRb",
        "outputId": "9d5f1aea-0e03-459a-e1de-c1ea814a6f28"
      },
      "outputs": [
        {
          "name": "stdout",
          "output_type": "stream",
          "text": [
            "<IBMBackend('ibm_brisbane')>\n"
          ]
        }
      ],
      "source": [
        "# choose the least busy QPU\n",
        "real_backend = service.least_busy(simulator=False, operational=True)\n",
        "print(real_backend)"
      ]
    },
    {
      "cell_type": "code",
      "execution_count": 14,
      "id": "urJ8mB4Gi6zC",
      "metadata": {
        "id": "urJ8mB4Gi6zC"
      },
      "outputs": [],
      "source": [
        "# Run the circuit on the QPU\n",
        "\n",
        "qobj = transpile(grover_circuit, real_backend)\n",
        "\n",
        "# Define Sampler: https://docs.quantum.ibm.com/guides/get-started-with-primitives\n",
        "sampler = Sampler(mode=real_backend)\n",
        "\n",
        "# Run calculation\n",
        "job = sampler.run([qobj])\n",
        "\n",
        "result = job.result()"
      ]
    },
    {
      "cell_type": "code",
      "execution_count": 15,
      "id": "nFJvRbbsnB2X",
      "metadata": {
        "colab": {
          "base_uri": "https://localhost:8080/",
          "height": 454
        },
        "id": "nFJvRbbsnB2X",
        "outputId": "a0d365e7-7549-462c-9f5a-cba15235cb42"
      },
      "outputs": [
        {
          "name": "stdout",
          "output_type": "stream",
          "text": [
            "{'11': 3853, '01': 98, '10': 133, '00': 12}\n"
          ]
        },
        {
          "data": {
            "image/png": "[encoded data removed]",
            "text/plain": [
              "<Figure size 640x480 with 1 Axes>"
            ]
          },
          "execution_count": 15,
          "metadata": {},
          "output_type": "execute_result"
        }
      ],
      "source": [
        "# Print and visualize the results (counts)\n",
        "counts = result[0].data.meas.get_counts()\n",
        "print(counts)\n",
        "plot_histogram(counts) # Display the results"
      ]
    }
  ],
  "metadata": {
    "colab": {
      "provenance": []
    },
    "kernelspec": {
      "display_name": "quantum",
      "language": "python",
      "name": "python3"
    },
    "language_info": {
      "codemirror_mode": {
        "name": "ipython",
        "version": 3
      },
      "file_extension": ".py",
      "mimetype": "text/x-python",
      "name": "python",
      "nbconvert_exporter": "python",
      "pygments_lexer": "ipython3",
      "version": "3.13.1"
    }
  },
  "nbformat": 4,
  "nbformat_minor": 5
}
