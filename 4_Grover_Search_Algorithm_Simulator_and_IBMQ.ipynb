{
  "cells": [
    {
      "cell_type": "code",
      "execution_count": 7,
      "id": "BgTVxIOmVWqf",
      "metadata": {
        "colab": {
          "base_uri": "https://localhost:8080/"
        },
        "collapsed": true,
        "id": "BgTVxIOmVWqf",
        "outputId": "e601b071-ab89-4a8a-a70a-576cfcdb1108"
      },
      "outputs": [
        {
          "name": "stdout",
          "output_type": "stream",
          "text": [
            "Requirement already satisfied: qiskit in .\\venv\\lib\\site-packages (1.4.2)\n",
            "Requirement already satisfied: rustworkx>=0.15.0 in .\\venv\\lib\\site-packages (from qiskit) (0.16.0)\n",
            "Requirement already satisfied: numpy<3,>=1.17 in .\\venv\\lib\\site-packages (from qiskit) (2.2.4)\n",
            "Requirement already satisfied: scipy>=1.5 in .\\venv\\lib\\site-packages (from qiskit) (1.15.2)\n",
            "Requirement already satisfied: sympy>=1.3 in .\\venv\\lib\\site-packages (from qiskit) (1.13.3)\n",
            "Requirement already satisfied: dill>=0.3 in .\\venv\\lib\\site-packages (from qiskit) (0.3.9)\n",
            "Requirement already satisfied: python-dateutil>=2.8.0 in .\\venv\\lib\\site-packages (from qiskit) (2.9.0.post0)\n",
            "Requirement already satisfied: stevedore>=3.0.0 in .\\venv\\lib\\site-packages (from qiskit) (5.4.1)\n",
            "Requirement already satisfied: typing-extensions in .\\venv\\lib\\site-packages (from qiskit) (4.12.2)\n",
            "Requirement already satisfied: symengine<0.14,>=0.11 in .\\venv\\lib\\site-packages (from qiskit) (0.13.0)\n",
            "Requirement already satisfied: six>=1.5 in .\\venv\\lib\\site-packages (from python-dateutil>=2.8.0->qiskit) (1.17.0)\n",
            "Requirement already satisfied: pbr>=2.0.0 in .\\venv\\lib\\site-packages (from stevedore>=3.0.0->qiskit) (6.1.1)\n",
            "Requirement already satisfied: mpmath<1.4,>=1.1.0 in .\\venv\\lib\\site-packages (from sympy>=1.3->qiskit) (1.3.0)\n",
            "Requirement already satisfied: setuptools in .\\venv\\lib\\site-packages (from pbr>=2.0.0->stevedore>=3.0.0->qiskit) (76.1.0)\n",
            "Note: you may need to restart the kernel to use updated packages.\n"
          ]
        },
        {
          "name": "stderr",
          "output_type": "stream",
          "text": [
            "\n",
            "[notice] A new release of pip is available: 24.3.1 -> 25.0.1\n",
            "[notice] To update, run: python.exe -m pip install --upgrade pip\n"
          ]
        },
        {
          "name": "stdout",
          "output_type": "stream",
          "text": [
            "Requirement already satisfied: qiskit-aer in .\\venv\\lib\\site-packages (0.17.0)\n",
            "Requirement already satisfied: qiskit>=1.1.0 in .\\venv\\lib\\site-packages (from qiskit-aer) (1.4.2)\n",
            "Requirement already satisfied: numpy>=1.16.3 in .\\venv\\lib\\site-packages (from qiskit-aer) (2.2.4)\n",
            "Requirement already satisfied: scipy>=1.0 in .\\venv\\lib\\site-packages (from qiskit-aer) (1.15.2)\n",
            "Requirement already satisfied: psutil>=5 in .\\venv\\lib\\site-packages (from qiskit-aer) (7.0.0)\n",
            "Requirement already satisfied: rustworkx>=0.15.0 in .\\venv\\lib\\site-packages (from qiskit>=1.1.0->qiskit-aer) (0.16.0)\n",
            "Requirement already satisfied: sympy>=1.3 in .\\venv\\lib\\site-packages (from qiskit>=1.1.0->qiskit-aer) (1.13.3)\n",
            "Requirement already satisfied: dill>=0.3 in .\\venv\\lib\\site-packages (from qiskit>=1.1.0->qiskit-aer) (0.3.9)\n",
            "Requirement already satisfied: python-dateutil>=2.8.0 in .\\venv\\lib\\site-packages (from qiskit>=1.1.0->qiskit-aer) (2.9.0.post0)\n",
            "Requirement already satisfied: stevedore>=3.0.0 in .\\venv\\lib\\site-packages (from qiskit>=1.1.0->qiskit-aer) (5.4.1)\n",
            "Requirement already satisfied: typing-extensions in .\\venv\\lib\\site-packages (from qiskit>=1.1.0->qiskit-aer) (4.12.2)\n",
            "Requirement already satisfied: symengine<0.14,>=0.11 in .\\venv\\lib\\site-packages (from qiskit>=1.1.0->qiskit-aer) (0.13.0)\n",
            "Requirement already satisfied: six>=1.5 in .\\venv\\lib\\site-packages (from python-dateutil>=2.8.0->qiskit>=1.1.0->qiskit-aer) (1.17.0)\n",
            "Requirement already satisfied: pbr>=2.0.0 in .\\venv\\lib\\site-packages (from stevedore>=3.0.0->qiskit>=1.1.0->qiskit-aer) (6.1.1)\n",
            "Requirement already satisfied: mpmath<1.4,>=1.1.0 in .\\venv\\lib\\site-packages (from sympy>=1.3->qiskit>=1.1.0->qiskit-aer) (1.3.0)\n",
            "Requirement already satisfied: setuptools in .\\venv\\lib\\site-packages (from pbr>=2.0.0->stevedore>=3.0.0->qiskit>=1.1.0->qiskit-aer) (76.1.0)\n",
            "Note: you may need to restart the kernel to use updated packages.\n"
          ]
        },
        {
          "name": "stderr",
          "output_type": "stream",
          "text": [
            "\n",
            "[notice] A new release of pip is available: 24.3.1 -> 25.0.1\n",
            "[notice] To update, run: python.exe -m pip install --upgrade pip\n"
          ]
        },
        {
          "name": "stdout",
          "output_type": "stream",
          "text": [
            "Requirement already satisfied: pylatexenc in .\\venv\\lib\\site-packages (2.10)\n",
            "Note: you may need to restart the kernel to use updated packages.\n"
          ]
        },
        {
          "name": "stderr",
          "output_type": "stream",
          "text": [
            "\n",
            "[notice] A new release of pip is available: 24.3.1 -> 25.0.1\n",
            "[notice] To update, run: python.exe -m pip install --upgrade pip\n"
          ]
        },
        {
          "name": "stdout",
          "output_type": "stream",
          "text": [
            "Requirement already satisfied: qiskit-ibm-runtime in .\\venv\\lib\\site-packages (0.37.0)\n",
            "Requirement already satisfied: requests>=2.19 in .\\venv\\lib\\site-packages (from qiskit-ibm-runtime) (2.32.3)\n",
            "Requirement already satisfied: requests-ntlm>=1.1.0 in .\\venv\\lib\\site-packages (from qiskit-ibm-runtime) (1.3.0)\n",
            "Requirement already satisfied: numpy>=1.13 in .\\venv\\lib\\site-packages (from qiskit-ibm-runtime) (2.2.4)\n",
            "Requirement already satisfied: urllib3>=1.21.1 in .\\venv\\lib\\site-packages (from qiskit-ibm-runtime) (2.3.0)\n",
            "Requirement already satisfied: python-dateutil>=2.8.0 in .\\venv\\lib\\site-packages (from qiskit-ibm-runtime) (2.9.0.post0)\n",
            "Requirement already satisfied: websocket-client>=1.5.1 in .\\venv\\lib\\site-packages (from qiskit-ibm-runtime) (1.8.0)\n",
            "Requirement already satisfied: ibm-platform-services>=0.22.6 in .\\venv\\lib\\site-packages (from qiskit-ibm-runtime) (0.62.0)\n",
            "Requirement already satisfied: pydantic<2.10,>=2.5.0 in .\\venv\\lib\\site-packages (from qiskit-ibm-runtime) (2.9.2)\n",
            "Requirement already satisfied: qiskit>=1.4.1 in .\\venv\\lib\\site-packages (from qiskit-ibm-runtime) (1.4.2)\n",
            "Requirement already satisfied: packaging in .\\venv\\lib\\site-packages (from qiskit-ibm-runtime) (24.2)\n",
            "Requirement already satisfied: ibm_cloud_sdk_core<4.0.0,>=3.22.1 in .\\venv\\lib\\site-packages (from ibm-platform-services>=0.22.6->qiskit-ibm-runtime) (3.23.0)\n",
            "Requirement already satisfied: annotated-types>=0.6.0 in .\\venv\\lib\\site-packages (from pydantic<2.10,>=2.5.0->qiskit-ibm-runtime) (0.7.0)\n",
            "Requirement already satisfied: pydantic-core==2.23.4 in .\\venv\\lib\\site-packages (from pydantic<2.10,>=2.5.0->qiskit-ibm-runtime) (2.23.4)\n",
            "Requirement already satisfied: typing-extensions>=4.12.2 in .\\venv\\lib\\site-packages (from pydantic<2.10,>=2.5.0->qiskit-ibm-runtime) (4.12.2)\n",
            "Requirement already satisfied: six>=1.5 in .\\venv\\lib\\site-packages (from python-dateutil>=2.8.0->qiskit-ibm-runtime) (1.17.0)\n",
            "Requirement already satisfied: rustworkx>=0.15.0 in .\\venv\\lib\\site-packages (from qiskit>=1.4.1->qiskit-ibm-runtime) (0.16.0)\n",
            "Requirement already satisfied: scipy>=1.5 in .\\venv\\lib\\site-packages (from qiskit>=1.4.1->qiskit-ibm-runtime) (1.15.2)\n",
            "Requirement already satisfied: sympy>=1.3 in .\\venv\\lib\\site-packages (from qiskit>=1.4.1->qiskit-ibm-runtime) (1.13.3)\n",
            "Requirement already satisfied: dill>=0.3 in .\\venv\\lib\\site-packages (from qiskit>=1.4.1->qiskit-ibm-runtime) (0.3.9)\n",
            "Requirement already satisfied: stevedore>=3.0.0 in .\\venv\\lib\\site-packages (from qiskit>=1.4.1->qiskit-ibm-runtime) (5.4.1)\n",
            "Requirement already satisfied: symengine<0.14,>=0.11 in .\\venv\\lib\\site-packages (from qiskit>=1.4.1->qiskit-ibm-runtime) (0.13.0)\n",
            "Requirement already satisfied: charset-normalizer<4,>=2 in .\\venv\\lib\\site-packages (from requests>=2.19->qiskit-ibm-runtime) (3.4.1)\n",
            "Requirement already satisfied: idna<4,>=2.5 in .\\venv\\lib\\site-packages (from requests>=2.19->qiskit-ibm-runtime) (3.10)\n",
            "Requirement already satisfied: certifi>=2017.4.17 in .\\venv\\lib\\site-packages (from requests>=2.19->qiskit-ibm-runtime) (2025.1.31)\n",
            "Requirement already satisfied: cryptography>=1.3 in .\\venv\\lib\\site-packages (from requests-ntlm>=1.1.0->qiskit-ibm-runtime) (44.0.2)\n",
            "Requirement already satisfied: pyspnego>=0.4.0 in .\\venv\\lib\\site-packages (from requests-ntlm>=1.1.0->qiskit-ibm-runtime) (0.11.2)\n",
            "Requirement already satisfied: cffi>=1.12 in .\\venv\\lib\\site-packages (from cryptography>=1.3->requests-ntlm>=1.1.0->qiskit-ibm-runtime) (1.17.1)\n",
            "Requirement already satisfied: PyJWT<3.0.0,>=2.8.0 in .\\venv\\lib\\site-packages (from ibm_cloud_sdk_core<4.0.0,>=3.22.1->ibm-platform-services>=0.22.6->qiskit-ibm-runtime) (2.10.1)\n",
            "Requirement already satisfied: sspilib>=0.1.0 in .\\venv\\lib\\site-packages (from pyspnego>=0.4.0->requests-ntlm>=1.1.0->qiskit-ibm-runtime) (0.2.0)\n",
            "Requirement already satisfied: pbr>=2.0.0 in .\\venv\\lib\\site-packages (from stevedore>=3.0.0->qiskit>=1.4.1->qiskit-ibm-runtime) (6.1.1)\n",
            "Requirement already satisfied: mpmath<1.4,>=1.1.0 in .\\venv\\lib\\site-packages (from sympy>=1.3->qiskit>=1.4.1->qiskit-ibm-runtime) (1.3.0)\n",
            "Requirement already satisfied: pycparser in .\\venv\\lib\\site-packages (from cffi>=1.12->cryptography>=1.3->requests-ntlm>=1.1.0->qiskit-ibm-runtime) (2.22)\n",
            "Requirement already satisfied: setuptools in .\\venv\\lib\\site-packages (from pbr>=2.0.0->stevedore>=3.0.0->qiskit>=1.4.1->qiskit-ibm-runtime) (76.1.0)\n",
            "Note: you may need to restart the kernel to use updated packages.\n"
          ]
        },
        {
          "name": "stderr",
          "output_type": "stream",
          "text": [
            "\n",
            "[notice] A new release of pip is available: 24.3.1 -> 25.0.1\n",
            "[notice] To update, run: python.exe -m pip install --upgrade pip\n"
          ]
        },
        {
          "name": "stdout",
          "output_type": "stream",
          "text": [
            "Requirement already satisfied: qiskit-ibm-provider in .\\venv\\lib\\site-packages (0.11.0)\n",
            "Requirement already satisfied: qiskit>=0.45.0 in .\\venv\\lib\\site-packages (from qiskit-ibm-provider) (1.4.2)\n",
            "Requirement already satisfied: requests>=2.19 in .\\venv\\lib\\site-packages (from qiskit-ibm-provider) (2.32.3)\n",
            "Requirement already satisfied: requests-ntlm>=1.1.0 in .\\venv\\lib\\site-packages (from qiskit-ibm-provider) (1.3.0)\n",
            "Requirement already satisfied: numpy>=1.13 in .\\venv\\lib\\site-packages (from qiskit-ibm-provider) (2.2.4)\n",
            "Requirement already satisfied: urllib3>=1.21.1 in .\\venv\\lib\\site-packages (from qiskit-ibm-provider) (2.3.0)\n",
            "Requirement already satisfied: python-dateutil>=2.8.0 in .\\venv\\lib\\site-packages (from qiskit-ibm-provider) (2.9.0.post0)\n",
            "Requirement already satisfied: websocket-client>=1.5.1 in .\\venv\\lib\\site-packages (from qiskit-ibm-provider) (1.8.0)\n",
            "Requirement already satisfied: websockets>=10.0 in .\\venv\\lib\\site-packages (from qiskit-ibm-provider) (15.0.1)\n",
            "Requirement already satisfied: typing-extensions>=4.3 in .\\venv\\lib\\site-packages (from qiskit-ibm-provider) (4.12.2)\n",
            "Requirement already satisfied: six>=1.5 in .\\venv\\lib\\site-packages (from python-dateutil>=2.8.0->qiskit-ibm-provider) (1.17.0)\n",
            "Requirement already satisfied: rustworkx>=0.15.0 in .\\venv\\lib\\site-packages (from qiskit>=0.45.0->qiskit-ibm-provider) (0.16.0)\n",
            "Requirement already satisfied: scipy>=1.5 in .\\venv\\lib\\site-packages (from qiskit>=0.45.0->qiskit-ibm-provider) (1.15.2)\n",
            "Requirement already satisfied: sympy>=1.3 in .\\venv\\lib\\site-packages (from qiskit>=0.45.0->qiskit-ibm-provider) (1.13.3)\n",
            "Requirement already satisfied: dill>=0.3 in .\\venv\\lib\\site-packages (from qiskit>=0.45.0->qiskit-ibm-provider) (0.3.9)\n",
            "Requirement already satisfied: stevedore>=3.0.0 in .\\venv\\lib\\site-packages (from qiskit>=0.45.0->qiskit-ibm-provider) (5.4.1)\n",
            "Requirement already satisfied: symengine<0.14,>=0.11 in .\\venv\\lib\\site-packages (from qiskit>=0.45.0->qiskit-ibm-provider) (0.13.0)\n",
            "Requirement already satisfied: charset-normalizer<4,>=2 in .\\venv\\lib\\site-packages (from requests>=2.19->qiskit-ibm-provider) (3.4.1)\n",
            "Requirement already satisfied: idna<4,>=2.5 in .\\venv\\lib\\site-packages (from requests>=2.19->qiskit-ibm-provider) (3.10)\n",
            "Requirement already satisfied: certifi>=2017.4.17 in .\\venv\\lib\\site-packages (from requests>=2.19->qiskit-ibm-provider) (2025.1.31)\n",
            "Requirement already satisfied: cryptography>=1.3 in .\\venv\\lib\\site-packages (from requests-ntlm>=1.1.0->qiskit-ibm-provider) (44.0.2)\n",
            "Requirement already satisfied: pyspnego>=0.4.0 in .\\venv\\lib\\site-packages (from requests-ntlm>=1.1.0->qiskit-ibm-provider) (0.11.2)\n",
            "Requirement already satisfied: cffi>=1.12 in .\\venv\\lib\\site-packages (from cryptography>=1.3->requests-ntlm>=1.1.0->qiskit-ibm-provider) (1.17.1)\n",
            "Requirement already satisfied: sspilib>=0.1.0 in .\\venv\\lib\\site-packages (from pyspnego>=0.4.0->requests-ntlm>=1.1.0->qiskit-ibm-provider) (0.2.0)\n",
            "Requirement already satisfied: pbr>=2.0.0 in .\\venv\\lib\\site-packages (from stevedore>=3.0.0->qiskit>=0.45.0->qiskit-ibm-provider) (6.1.1)\n",
            "Requirement already satisfied: mpmath<1.4,>=1.1.0 in .\\venv\\lib\\site-packages (from sympy>=1.3->qiskit>=0.45.0->qiskit-ibm-provider) (1.3.0)\n",
            "Requirement already satisfied: pycparser in .\\venv\\lib\\site-packages (from cffi>=1.12->cryptography>=1.3->requests-ntlm>=1.1.0->qiskit-ibm-provider) (2.22)\n",
            "Requirement already satisfied: setuptools in .\\venv\\lib\\site-packages (from pbr>=2.0.0->stevedore>=3.0.0->qiskit>=0.45.0->qiskit-ibm-provider) (76.1.0)\n",
            "Note: you may need to restart the kernel to use updated packages.\n"
          ]
        },
        {
          "name": "stderr",
          "output_type": "stream",
          "text": [
            "\n",
            "[notice] A new release of pip is available: 24.3.1 -> 25.0.1\n",
            "[notice] To update, run: python.exe -m pip install --upgrade pip\n"
          ]
        }
      ],
      "source": [
        "%pip install qiskit \n",
        "%pip install qiskit-aer \n",
        "%pip install pylatexenc \n",
        "%pip install qiskit-ibm-runtime \n",
        "%pip install qiskit-ibm-provider "
      ]
    },
    {
      "cell_type": "markdown",
      "id": "5b094a03",
      "metadata": {
        "id": "5b094a03"
      },
      "source": [
        "# Implementing Grover's algorithm for the case of 2 qubits with the winning state of |w⟩=|11⟩"
      ]
    },
    {
      "cell_type": "code",
      "execution_count": 8,
      "id": "224372f5",
      "metadata": {
        "id": "224372f5"
      },
      "outputs": [],
      "source": [
        "#initialization\n",
        "#import matplotlib.pyplot as plt\n",
        "#import numpy as np\n",
        "\n",
        "# importing Qiskit\n",
        "from qiskit import QuantumCircuit, transpile, ClassicalRegister, QuantumRegister\n",
        "from qiskit_aer import AerSimulator\n",
        "#from qiskit.providers.ibmq import least_busy\n",
        "\n",
        "# import basic plot tools\n",
        "from qiskit.visualization import plot_histogram"
      ]
    },
    {
      "cell_type": "code",
      "execution_count": 9,
      "id": "80a531e0",
      "metadata": {
        "id": "80a531e0"
      },
      "outputs": [],
      "source": [
        "# set the length of the n-bit input string.\n",
        "n = 2"
      ]
    },
    {
      "cell_type": "markdown",
      "id": "4c80b80c",
      "metadata": {
        "id": "4c80b80c"
      },
      "source": [
        "## Create the circuit and initalize the qubits"
      ]
    },
    {
      "cell_type": "code",
      "execution_count": 10,
      "id": "61cbb196",
      "metadata": {
        "colab": {
          "base_uri": "https://localhost:8080/",
          "height": 191
        },
        "id": "61cbb196",
        "outputId": "d7c77e47-5a0e-4e17-f57b-ee3ed4aa0d49"
      },
      "outputs": [
        {
          "data": {
            "image/png": "[encoded data removed]",
            "text/plain": [
              "<Figure size 203.683x200.667 with 1 Axes>"
            ]
          },
          "execution_count": 10,
          "metadata": {},
          "output_type": "execute_result"
        }
      ],
      "source": [
        "grover_circuit = QuantumCircuit(n)\n",
        "\n",
        "def initialize_s(qc, qubits):\n",
        "    \"\"\"Apply a H-gate to 'qubits' in qc\"\"\"\n",
        "    for q in qubits:\n",
        "        qc.h(q)\n",
        "    return qc\n",
        "grover_circuit = initialize_s(grover_circuit, [0,1])\n",
        "grover_circuit.draw(output='mpl', style=\"clifford\")"
      ]
    },
    {
      "cell_type": "markdown",
      "id": "ed40a637",
      "metadata": {
        "id": "ed40a637"
      },
      "source": [
        "## Apply the Oracle (phase inversion) for |w⟩=|11⟩ (Controlled-Z gate in this case)"
      ]
    },
    {
      "cell_type": "code",
      "execution_count": 11,
      "id": "dccdbf02",
      "metadata": {
        "colab": {
          "base_uri": "https://localhost:8080/",
          "height": 191
        },
        "id": "dccdbf02",
        "outputId": "4c9e927e-bf6b-4fbd-e7be-73d415c577cf"
      },
      "outputs": [
        {
          "data": {
            "image/png": "[encoded data removed]",
            "text/plain": [
              "<Figure size 370.906x200.667 with 1 Axes>"
            ]
          },
          "execution_count": 11,
          "metadata": {},
          "output_type": "execute_result"
        }
      ],
      "source": [
        "grover_circuit.barrier()\n",
        "grover_circuit.cz(0,1) # Oracle\n",
        "grover_circuit.draw(output='mpl')"
      ]
    },
    {
      "cell_type": "markdown",
      "id": "4400be48",
      "metadata": {
        "id": "4400be48"
      },
      "source": [
        "## Apply the diffuser (inversion about the mean)"
      ]
    },
    {
      "cell_type": "code",
      "execution_count": 12,
      "id": "d1e0f987",
      "metadata": {
        "colab": {
          "base_uri": "https://localhost:8080/",
          "height": 191
        },
        "id": "d1e0f987",
        "outputId": "00953eaa-2db6-4f3a-c86a-abca32611084"
      },
      "outputs": [
        {
          "data": {
            "image/png": "[encoded data removed]",
            "text/plain": [
              "<Figure size 872.572x200.667 with 1 Axes>"
            ]
          },
          "execution_count": 12,
          "metadata": {},
          "output_type": "execute_result"
        }
      ],
      "source": [
        "# Diffusion operator (U_s)\n",
        "grover_circuit.barrier()\n",
        "grover_circuit.h([0,1])\n",
        "grover_circuit.z([0,1])\n",
        "grover_circuit.cz(0,1)\n",
        "grover_circuit.h([0,1])\n",
        "grover_circuit.barrier()\n",
        "\n",
        "grover_circuit.draw(output='mpl')"
      ]
    },
    {
      "cell_type": "markdown",
      "id": "f666b391",
      "metadata": {
        "id": "f666b391"
      },
      "source": [
        "## Apply measurement"
      ]
    },
    {
      "cell_type": "code",
      "execution_count": 13,
      "id": "e6c4c857",
      "metadata": {
        "colab": {
          "base_uri": "https://localhost:8080/",
          "height": 247
        },
        "id": "e6c4c857",
        "outputId": "d357f0a3-7bf7-4926-f032-873c45e7bb02"
      },
      "outputs": [
        {
          "data": {
            "image/png": "[encoded data removed]",
            "text/plain": [
              "<Figure size 1165.66x284.278 with 1 Axes>"
            ]
          },
          "execution_count": 13,
          "metadata": {},
          "output_type": "execute_result"
        }
      ],
      "source": [
        "grover_circuit.measure_all()\n",
        "grover_circuit.draw(output='mpl')"
      ]
    },
    {
      "cell_type": "markdown",
      "id": "79cf3b46",
      "metadata": {
        "id": "79cf3b46"
      },
      "source": [
        "## Run the circuit on a noise-free simulator\n",
        "\n",
        "---\n",
        "\n",
        "\n",
        "\n",
        "```\n",
        "# This is formatted as code\n",
        "```\n",
        "\n",
        "simulator"
      ]
    },
    {
      "cell_type": "code",
      "execution_count": 14,
      "id": "9f783e99",
      "metadata": {
        "colab": {
          "base_uri": "https://localhost:8080/",
          "height": 437
        },
        "id": "9f783e99",
        "outputId": "aa935861-3171-4dcb-b6b0-52e123656efd"
      },
      "outputs": [
        {
          "data": {
            "image/png": "[encoded data removed]",
            "text/plain": [
              "<Figure size 640x480 with 1 Axes>"
            ]
          },
          "execution_count": 14,
          "metadata": {},
          "output_type": "execute_result"
        }
      ],
      "source": [
        "aer_sim = sim = AerSimulator(method='statevector') # Use a noise-free simulator\n",
        "qobj = transpile(grover_circuit, aer_sim)\n",
        "result = aer_sim.run(qobj).result()\n",
        "counts = result.get_counts()\n",
        "plot_histogram(counts)"
      ]
    },
    {
      "cell_type": "markdown",
      "id": "90eddce9",
      "metadata": {
        "id": "90eddce9"
      },
      "source": [
        "## Run the circuit on IBM quantum (IBM Q)"
      ]
    },
    {
      "cell_type": "markdown",
      "id": "c38a8b05",
      "metadata": {
        "id": "c38a8b05"
      },
      "source": [
        "### Preparation for accessing IBM Q: store your IBM Q credential on your local computer\n",
        "Step 1: Create an IBM Quantum account or log in to your existing account (visit the [IBM Quantum login page](https://quantum-computing.ibm.com/login)). <br>\n",
        "Step 2: Copy your API token (or optionally regenerate one) from your [IBM Quantum account page](https://quantum-computing.ibm.com/account)\n",
        "<br>\n",
        "Step 3: Run the funciton IBMProvider.save_account(token='MY_API_TOKEN') below (replace API_Token with your copied API toke).\n",
        "<br>\n",
        "For more information: https://pypi.org/project/qiskit-ibm-provider/"
      ]
    },
    {
      "cell_type": "code",
      "execution_count": 15,
      "id": "daf1f144",
      "metadata": {
        "id": "daf1f144"
      },
      "outputs": [],
      "source": [
        "#!pip install qiskit_ibm_provider"
      ]
    },
    {
      "cell_type": "markdown",
      "id": "uH73PLBGfYtT",
      "metadata": {
        "id": "uH73PLBGfYtT"
      },
      "source": [
        "## Run the circuit on a simulator simulating a quantum device (QPU)\n",
        "https://docs.quantum.ibm.com/guides/local-testing-mode\n"
      ]
    },
    {
      "cell_type": "code",
      "execution_count": 16,
      "id": "Kszm53ija558",
      "metadata": {
        "id": "Kszm53ija558"
      },
      "outputs": [
        {
          "ename": "IBMNotAuthorizedError",
          "evalue": "'401 Client Error: Unauthorized for url: https://auth.quantum.ibm.com/api/users/loginWithToken. Login failed., Error code: 3446.'",
          "output_type": "error",
          "traceback": [
            "\u001b[31m---------------------------------------------------------------------------\u001b[39m",
            "\u001b[31mHTTPError\u001b[39m                                 Traceback (most recent call last)",
            "\u001b[36mFile \u001b[39m\u001b[32md:\\polytechnique\\quantique\\tp\\tp2\\tp2_quantique\\venv\\Lib\\site-packages\\qiskit_ibm_runtime\\api\\session.py:328\u001b[39m, in \u001b[36mRetrySession.request\u001b[39m\u001b[34m(self, method, url, bare, **kwargs)\u001b[39m\n\u001b[32m    327\u001b[39m     response = \u001b[38;5;28msuper\u001b[39m().request(method, final_url, headers=headers, **kwargs)\n\u001b[32m--> \u001b[39m\u001b[32m328\u001b[39m     \u001b[43mresponse\u001b[49m\u001b[43m.\u001b[49m\u001b[43mraise_for_status\u001b[49m\u001b[43m(\u001b[49m\u001b[43m)\u001b[49m\n\u001b[32m    329\u001b[39m \u001b[38;5;28;01mexcept\u001b[39;00m RequestException \u001b[38;5;28;01mas\u001b[39;00m ex:\n\u001b[32m    330\u001b[39m     \u001b[38;5;66;03m# Wrap the requests exceptions into a IBM Q custom one, for\u001b[39;00m\n\u001b[32m    331\u001b[39m     \u001b[38;5;66;03m# compatibility.\u001b[39;00m\n",
            "\u001b[36mFile \u001b[39m\u001b[32md:\\polytechnique\\quantique\\tp\\tp2\\tp2_quantique\\venv\\Lib\\site-packages\\requests\\models.py:1024\u001b[39m, in \u001b[36mResponse.raise_for_status\u001b[39m\u001b[34m(self)\u001b[39m\n\u001b[32m   1023\u001b[39m \u001b[38;5;28;01mif\u001b[39;00m http_error_msg:\n\u001b[32m-> \u001b[39m\u001b[32m1024\u001b[39m     \u001b[38;5;28;01mraise\u001b[39;00m HTTPError(http_error_msg, response=\u001b[38;5;28mself\u001b[39m)\n",
            "\u001b[31mHTTPError\u001b[39m: 401 Client Error: Unauthorized for url: https://auth.quantum.ibm.com/api/users/loginWithToken",
            "\nThe above exception was the direct cause of the following exception:\n",
            "\u001b[31mIBMNotAuthorizedError\u001b[39m                     Traceback (most recent call last)",
            "\u001b[36mCell\u001b[39m\u001b[36m \u001b[39m\u001b[32mIn[16]\u001b[39m\u001b[32m, line 12\u001b[39m\n\u001b[32m      5\u001b[39m token=\u001b[33m'\u001b[39m\u001b[33mMY_API_TOKEN\u001b[39m\u001b[33m'\u001b[39m\n\u001b[32m      6\u001b[39m QiskitRuntimeService.save_account(\n\u001b[32m      7\u001b[39m   token=token,\n\u001b[32m      8\u001b[39m   channel=\u001b[33m\"\u001b[39m\u001b[33mibm_quantum\u001b[39m\u001b[33m\"\u001b[39m, \u001b[38;5;66;03m# `channel` distinguishes between different account types\u001b[39;00m\n\u001b[32m      9\u001b[39m   overwrite=\u001b[38;5;28;01mTrue\u001b[39;00m\n\u001b[32m     10\u001b[39m )\n\u001b[32m---> \u001b[39m\u001b[32m12\u001b[39m service = \u001b[43mQiskitRuntimeService\u001b[49m\u001b[43m(\u001b[49m\u001b[43m)\u001b[49m\n",
            "\u001b[36mFile \u001b[39m\u001b[32md:\\polytechnique\\quantique\\tp\\tp2\\tp2_quantique\\venv\\Lib\\site-packages\\qiskit_ibm_runtime\\qiskit_runtime_service.py:158\u001b[39m, in \u001b[36mQiskitRuntimeService.__init__\u001b[39m\u001b[34m(self, channel, token, url, filename, name, instance, proxies, verify, private_endpoint, url_resolver)\u001b[39m\n\u001b[32m    156\u001b[39m     \u001b[38;5;28mself\u001b[39m._backend_allowed_list = \u001b[38;5;28mself\u001b[39m._discover_cloud_backends()\n\u001b[32m    157\u001b[39m \u001b[38;5;28;01melse\u001b[39;00m:\n\u001b[32m--> \u001b[39m\u001b[32m158\u001b[39m     auth_client = \u001b[38;5;28;43mself\u001b[39;49m\u001b[43m.\u001b[49m\u001b[43m_authenticate_ibm_quantum_account\u001b[49m\u001b[43m(\u001b[49m\u001b[38;5;28;43mself\u001b[39;49m\u001b[43m.\u001b[49m\u001b[43m_client_params\u001b[49m\u001b[43m)\u001b[49m\n\u001b[32m    159\u001b[39m     \u001b[38;5;66;03m# Update client parameters to use authenticated values.\u001b[39;00m\n\u001b[32m    160\u001b[39m     \u001b[38;5;28mself\u001b[39m._client_params.url = auth_client.current_service_urls()[\u001b[33m\"\u001b[39m\u001b[33mservices\u001b[39m\u001b[33m\"\u001b[39m][\u001b[33m\"\u001b[39m\u001b[33mruntime\u001b[39m\u001b[33m\"\u001b[39m]\n",
            "\u001b[36mFile \u001b[39m\u001b[32md:\\polytechnique\\quantique\\tp\\tp2\\tp2_quantique\\venv\\Lib\\site-packages\\qiskit_ibm_runtime\\qiskit_runtime_service.py:280\u001b[39m, in \u001b[36mQiskitRuntimeService._authenticate_ibm_quantum_account\u001b[39m\u001b[34m(self, client_params)\u001b[39m\n\u001b[32m    273\u001b[39m \u001b[38;5;28;01mif\u001b[39;00m \u001b[38;5;129;01mnot\u001b[39;00m version_info[\u001b[33m\"\u001b[39m\u001b[33mnew_api\u001b[39m\u001b[33m\"\u001b[39m] \u001b[38;5;129;01mor\u001b[39;00m \u001b[33m\"\u001b[39m\u001b[33mapi-auth\u001b[39m\u001b[33m\"\u001b[39m \u001b[38;5;129;01mnot\u001b[39;00m \u001b[38;5;129;01min\u001b[39;00m version_info:\n\u001b[32m    274\u001b[39m     \u001b[38;5;28;01mraise\u001b[39;00m IBMInputValueError(\n\u001b[32m    275\u001b[39m         \u001b[33m\"\u001b[39m\u001b[33mThe URL specified (\u001b[39m\u001b[38;5;132;01m{}\u001b[39;00m\u001b[33m) is not an IBM Quantum authentication URL. \u001b[39m\u001b[33m\"\u001b[39m\n\u001b[32m    276\u001b[39m         \u001b[33m\"\u001b[39m\u001b[33mValid authentication URL: \u001b[39m\u001b[38;5;132;01m{}\u001b[39;00m\u001b[33m.\u001b[39m\u001b[33m\"\u001b[39m.format(\n\u001b[32m    277\u001b[39m             client_params.url, QISKIT_IBM_RUNTIME_API_URL\n\u001b[32m    278\u001b[39m         )\n\u001b[32m    279\u001b[39m     )\n\u001b[32m--> \u001b[39m\u001b[32m280\u001b[39m auth_client = \u001b[43mAuthClient\u001b[49m\u001b[43m(\u001b[49m\u001b[43mclient_params\u001b[49m\u001b[43m)\u001b[49m\n\u001b[32m    281\u001b[39m service_urls = auth_client.current_service_urls()\n\u001b[32m    282\u001b[39m \u001b[38;5;28;01mif\u001b[39;00m \u001b[38;5;129;01mnot\u001b[39;00m service_urls.get(\u001b[33m\"\u001b[39m\u001b[33mservices\u001b[39m\u001b[33m\"\u001b[39m, {}).get(SERVICE_NAME):\n",
            "\u001b[36mFile \u001b[39m\u001b[32md:\\polytechnique\\quantique\\tp\\tp2\\tp2_quantique\\venv\\Lib\\site-packages\\qiskit_ibm_runtime\\api\\clients\\auth.py:39\u001b[39m, in \u001b[36mAuthClient.__init__\u001b[39m\u001b[34m(self, client_params)\u001b[39m\n\u001b[32m     36\u001b[39m \u001b[38;5;28mself\u001b[39m._service_urls = {}  \u001b[38;5;66;03m# type: ignore[var-annotated]\u001b[39;00m\n\u001b[32m     38\u001b[39m \u001b[38;5;28mself\u001b[39m.auth_api = Api(RetrySession(\u001b[38;5;28mself\u001b[39m.auth_url, **client_params.connection_parameters()))\n\u001b[32m---> \u001b[39m\u001b[32m39\u001b[39m \u001b[38;5;28mself\u001b[39m.base_api = \u001b[38;5;28;43mself\u001b[39;49m\u001b[43m.\u001b[49m\u001b[43m_init_service_clients\u001b[49m\u001b[43m(\u001b[49m\u001b[43m*\u001b[49m\u001b[43m*\u001b[49m\u001b[43mclient_params\u001b[49m\u001b[43m.\u001b[49m\u001b[43mconnection_parameters\u001b[49m\u001b[43m(\u001b[49m\u001b[43m)\u001b[49m\u001b[43m)\u001b[49m\n",
            "\u001b[36mFile \u001b[39m\u001b[32md:\\polytechnique\\quantique\\tp\\tp2\\tp2_quantique\\venv\\Lib\\site-packages\\qiskit_ibm_runtime\\api\\clients\\auth.py:51\u001b[39m, in \u001b[36mAuthClient._init_service_clients\u001b[39m\u001b[34m(self, **request_kwargs)\u001b[39m\n\u001b[32m     42\u001b[39m \u001b[38;5;250m\u001b[39m\u001b[33;03m\"\"\"Initialize the clients used for communicating with the API.\u001b[39;00m\n\u001b[32m     43\u001b[39m \n\u001b[32m     44\u001b[39m \u001b[33;03mArgs:\u001b[39;00m\n\u001b[32m   (...)\u001b[39m\u001b[32m     48\u001b[39m \u001b[33;03m    Client for the API server.\u001b[39;00m\n\u001b[32m     49\u001b[39m \u001b[33;03m\"\"\"\u001b[39;00m\n\u001b[32m     50\u001b[39m \u001b[38;5;66;03m# Request an access token.\u001b[39;00m\n\u001b[32m---> \u001b[39m\u001b[32m51\u001b[39m \u001b[38;5;28mself\u001b[39m.access_token = \u001b[38;5;28;43mself\u001b[39;49m\u001b[43m.\u001b[49m\u001b[43m_request_access_token\u001b[49m\u001b[43m(\u001b[49m\u001b[43m)\u001b[49m\n\u001b[32m     52\u001b[39m \u001b[38;5;28mself\u001b[39m.auth_api.session.auth = QuantumAuth(access_token=\u001b[38;5;28mself\u001b[39m.access_token)\n\u001b[32m     53\u001b[39m \u001b[38;5;28mself\u001b[39m._service_urls = \u001b[38;5;28mself\u001b[39m.user_urls()\n",
            "\u001b[36mFile \u001b[39m\u001b[32md:\\polytechnique\\quantique\\tp\\tp2\\tp2_quantique\\venv\\Lib\\site-packages\\qiskit_ibm_runtime\\api\\clients\\auth.py:77\u001b[39m, in \u001b[36mAuthClient._request_access_token\u001b[39m\u001b[34m(self)\u001b[39m\n\u001b[32m     67\u001b[39m \u001b[38;5;250m\u001b[39m\u001b[33;03m\"\"\"Request a new access token from the API authentication service.\u001b[39;00m\n\u001b[32m     68\u001b[39m \n\u001b[32m     69\u001b[39m \u001b[33;03mReturns:\u001b[39;00m\n\u001b[32m   (...)\u001b[39m\u001b[32m     74\u001b[39m \u001b[33;03m    RequestsApiError: If the request failed.\u001b[39;00m\n\u001b[32m     75\u001b[39m \u001b[33;03m\"\"\"\u001b[39;00m\n\u001b[32m     76\u001b[39m \u001b[38;5;28;01mtry\u001b[39;00m:\n\u001b[32m---> \u001b[39m\u001b[32m77\u001b[39m     response = \u001b[38;5;28;43mself\u001b[39;49m\u001b[43m.\u001b[49m\u001b[43mauth_api\u001b[49m\u001b[43m.\u001b[49m\u001b[43mlogin\u001b[49m\u001b[43m(\u001b[49m\u001b[38;5;28;43mself\u001b[39;49m\u001b[43m.\u001b[49m\u001b[43mapi_token\u001b[49m\u001b[43m)\u001b[49m\n\u001b[32m     78\u001b[39m     \u001b[38;5;28;01mreturn\u001b[39;00m response[\u001b[33m\"\u001b[39m\u001b[33mid\u001b[39m\u001b[33m\"\u001b[39m]\n\u001b[32m     79\u001b[39m \u001b[38;5;28;01mexcept\u001b[39;00m RequestsApiError \u001b[38;5;28;01mas\u001b[39;00m ex:\n\u001b[32m     80\u001b[39m     \u001b[38;5;66;03m# Get the original exception that raised.\u001b[39;00m\n",
            "\u001b[36mFile \u001b[39m\u001b[32md:\\polytechnique\\quantique\\tp\\tp2\\tp2_quantique\\venv\\Lib\\site-packages\\qiskit_ibm_runtime\\api\\rest\\root.py:93\u001b[39m, in \u001b[36mApi.login\u001b[39m\u001b[34m(self, api_token)\u001b[39m\n\u001b[32m     84\u001b[39m \u001b[38;5;250m\u001b[39m\u001b[33;03m\"\"\"Login with token.\u001b[39;00m\n\u001b[32m     85\u001b[39m \n\u001b[32m     86\u001b[39m \u001b[33;03mArgs:\u001b[39;00m\n\u001b[32m   (...)\u001b[39m\u001b[32m     90\u001b[39m \u001b[33;03m    JSON response.\u001b[39;00m\n\u001b[32m     91\u001b[39m \u001b[33;03m\"\"\"\u001b[39;00m\n\u001b[32m     92\u001b[39m url = \u001b[38;5;28mself\u001b[39m.get_url(\u001b[33m\"\u001b[39m\u001b[33mlogin\u001b[39m\u001b[33m\"\u001b[39m)\n\u001b[32m---> \u001b[39m\u001b[32m93\u001b[39m \u001b[38;5;28;01mreturn\u001b[39;00m \u001b[38;5;28;43mself\u001b[39;49m\u001b[43m.\u001b[49m\u001b[43msession\u001b[49m\u001b[43m.\u001b[49m\u001b[43mpost\u001b[49m\u001b[43m(\u001b[49m\n\u001b[32m     94\u001b[39m \u001b[43m    \u001b[49m\u001b[43murl\u001b[49m\u001b[43m,\u001b[49m\u001b[43m \u001b[49m\u001b[43mjson\u001b[49m\u001b[43m=\u001b[49m\u001b[43m{\u001b[49m\u001b[33;43m\"\u001b[39;49m\u001b[33;43mapiToken\u001b[39;49m\u001b[33;43m\"\u001b[39;49m\u001b[43m:\u001b[49m\u001b[43m \u001b[49m\u001b[43mapi_token\u001b[49m\u001b[43m}\u001b[49m\u001b[43m,\u001b[49m\u001b[43m \u001b[49m\u001b[43mheaders\u001b[49m\u001b[43m=\u001b[49m\u001b[38;5;28;43mself\u001b[39;49m\u001b[43m.\u001b[49m\u001b[43m_HEADER_JSON_CONTENT\u001b[49m\n\u001b[32m     95\u001b[39m \u001b[43m\u001b[49m\u001b[43m)\u001b[49m.json()\n",
            "\u001b[36mFile \u001b[39m\u001b[32md:\\polytechnique\\quantique\\tp\\tp2\\tp2_quantique\\venv\\Lib\\site-packages\\requests\\sessions.py:637\u001b[39m, in \u001b[36mSession.post\u001b[39m\u001b[34m(self, url, data, json, **kwargs)\u001b[39m\n\u001b[32m    626\u001b[39m \u001b[38;5;28;01mdef\u001b[39;00m\u001b[38;5;250m \u001b[39m\u001b[34mpost\u001b[39m(\u001b[38;5;28mself\u001b[39m, url, data=\u001b[38;5;28;01mNone\u001b[39;00m, json=\u001b[38;5;28;01mNone\u001b[39;00m, **kwargs):\n\u001b[32m    627\u001b[39m \u001b[38;5;250m    \u001b[39m\u001b[33mr\u001b[39m\u001b[33;03m\"\"\"Sends a POST request. Returns :class:`Response` object.\u001b[39;00m\n\u001b[32m    628\u001b[39m \n\u001b[32m    629\u001b[39m \u001b[33;03m    :param url: URL for the new :class:`Request` object.\u001b[39;00m\n\u001b[32m   (...)\u001b[39m\u001b[32m    634\u001b[39m \u001b[33;03m    :rtype: requests.Response\u001b[39;00m\n\u001b[32m    635\u001b[39m \u001b[33;03m    \"\"\"\u001b[39;00m\n\u001b[32m--> \u001b[39m\u001b[32m637\u001b[39m     \u001b[38;5;28;01mreturn\u001b[39;00m \u001b[38;5;28;43mself\u001b[39;49m\u001b[43m.\u001b[49m\u001b[43mrequest\u001b[49m\u001b[43m(\u001b[49m\u001b[33;43m\"\u001b[39;49m\u001b[33;43mPOST\u001b[39;49m\u001b[33;43m\"\u001b[39;49m\u001b[43m,\u001b[49m\u001b[43m \u001b[49m\u001b[43murl\u001b[49m\u001b[43m,\u001b[49m\u001b[43m \u001b[49m\u001b[43mdata\u001b[49m\u001b[43m=\u001b[49m\u001b[43mdata\u001b[49m\u001b[43m,\u001b[49m\u001b[43m \u001b[49m\u001b[43mjson\u001b[49m\u001b[43m=\u001b[49m\u001b[43mjson\u001b[49m\u001b[43m,\u001b[49m\u001b[43m \u001b[49m\u001b[43m*\u001b[49m\u001b[43m*\u001b[49m\u001b[43mkwargs\u001b[49m\u001b[43m)\u001b[49m\n",
            "\u001b[36mFile \u001b[39m\u001b[32md:\\polytechnique\\quantique\\tp\\tp2\\tp2_quantique\\venv\\Lib\\site-packages\\qiskit_ibm_runtime\\api\\session.py:349\u001b[39m, in \u001b[36mRetrySession.request\u001b[39m\u001b[34m(self, method, url, bare, **kwargs)\u001b[39m\n\u001b[32m    347\u001b[39m         message += \u001b[33mf\u001b[39m\u001b[33m\"\u001b[39m\u001b[33m. \u001b[39m\u001b[38;5;132;01m{\u001b[39;00mex.response.text\u001b[38;5;132;01m}\u001b[39;00m\u001b[33m\"\u001b[39m\n\u001b[32m    348\u001b[39m \u001b[38;5;28;01mif\u001b[39;00m status_code == \u001b[32m401\u001b[39m:\n\u001b[32m--> \u001b[39m\u001b[32m349\u001b[39m     \u001b[38;5;28;01mraise\u001b[39;00m IBMNotAuthorizedError(message) \u001b[38;5;28;01mfrom\u001b[39;00m\u001b[38;5;250m \u001b[39m\u001b[34;01mex\u001b[39;00m\n\u001b[32m    350\u001b[39m \u001b[38;5;28;01mif\u001b[39;00m status_code == \u001b[32m503\u001b[39m:  \u001b[38;5;66;03m# Planned maintenance outage\u001b[39;00m\n\u001b[32m    351\u001b[39m     \u001b[38;5;28;01mraise\u001b[39;00m RequestsApiError(\n\u001b[32m    352\u001b[39m         \u001b[33m\"\u001b[39m\u001b[33mUnexpected response received from server. Please check if the service \u001b[39m\u001b[33m\"\u001b[39m\n\u001b[32m    353\u001b[39m         \u001b[33m\"\u001b[39m\u001b[33mis in maintenance mode \u001b[39m\u001b[33m\"\u001b[39m\n\u001b[32m    354\u001b[39m         \u001b[33mf\u001b[39m\u001b[33m\"\u001b[39m\u001b[33mhttps://docs.quantum.ibm.com/announcements/service-alerts \u001b[39m\u001b[38;5;132;01m{\u001b[39;00mmessage\u001b[38;5;132;01m}\u001b[39;00m\u001b[33m\"\u001b[39m\n\u001b[32m    355\u001b[39m     )\n",
            "\u001b[31mIBMNotAuthorizedError\u001b[39m: '401 Client Error: Unauthorized for url: https://auth.quantum.ibm.com/api/users/loginWithToken. Login failed., Error code: 3446.'"
          ]
        }
      ],
      "source": [
        "# Run our circuit on the backend.\n",
        "from qiskit_ibm_runtime import QiskitRuntimeService, Sampler\n",
        "\n",
        "# Replace 'YOUR_API_TOKEN' with your actual IBM Quantum API token\n",
        "token='MY_API_TOKEN'\n",
        "QiskitRuntimeService.save_account(\n",
        "  token=token,\n",
        "  channel=\"ibm_quantum\", # `channel` distinguishes between different account types\n",
        "  overwrite=True\n",
        ")\n",
        "\n",
        "service = QiskitRuntimeService()"
      ]
    },
    {
      "cell_type": "code",
      "execution_count": null,
      "id": "3mbqbmgtdusg",
      "metadata": {
        "colab": {
          "base_uri": "https://localhost:8080/",
          "height": 437
        },
        "id": "3mbqbmgtdusg",
        "outputId": "f7cc9f4a-26ee-4918-95f3-1bbb2f4ed5b8"
      },
      "outputs": [],
      "source": [
        "# Specify the backend to use\n",
        "backend = service.backend(\"ibm_sherbrooke\")\n",
        "sim_backend = AerSimulator.from_backend(backend)\n",
        "\n",
        "qobj = transpile(grover_circuit, sim_backend)\n",
        "result = sim_backend.run(qobj, shots = 4096).result()\n",
        "counts = result.get_counts()\n",
        "plot_histogram(counts)"
      ]
    },
    {
      "cell_type": "markdown",
      "id": "FjOAT3DEfxNW",
      "metadata": {
        "id": "FjOAT3DEfxNW"
      },
      "source": [
        "## Run the circuit on a real quantum device (QPU)"
      ]
    },
    {
      "cell_type": "code",
      "execution_count": null,
      "id": "8Ljdt1FfYwXw",
      "metadata": {
        "id": "8Ljdt1FfYwXw"
      },
      "outputs": [],
      "source": [
        "# Run our circuit on the backend.\n",
        "from qiskit_ibm_runtime import QiskitRuntimeService, Sampler\n",
        "\n",
        "# Replace 'YOUR_API_TOKEN' with your actual IBM Quantum API token\n",
        "token='MY_API_TOKEN'\n",
        "QiskitRuntimeService.save_account(\n",
        "  token=token,\n",
        "  channel=\"ibm_quantum\", # `channel` distinguishes between different account types\n",
        "  overwrite=True\n",
        ")\n",
        "\n",
        "service = QiskitRuntimeService()"
      ]
    },
    {
      "cell_type": "code",
      "execution_count": null,
      "id": "uaqN2ePrgyRb",
      "metadata": {
        "colab": {
          "base_uri": "https://localhost:8080/"
        },
        "id": "uaqN2ePrgyRb",
        "outputId": "9d5f1aea-0e03-459a-e1de-c1ea814a6f28"
      },
      "outputs": [],
      "source": [
        "# choose the least busy QPU\n",
        "real_backend = service.least_busy(simulator=False, operational=True)\n",
        "print(real_backend)"
      ]
    },
    {
      "cell_type": "code",
      "execution_count": null,
      "id": "urJ8mB4Gi6zC",
      "metadata": {
        "id": "urJ8mB4Gi6zC"
      },
      "outputs": [],
      "source": [
        "# Run the circuit on the QPU\n",
        "\n",
        "qobj = transpile(grover_circuit, real_backend)\n",
        "\n",
        "# Define Sampler: https://docs.quantum.ibm.com/guides/get-started-with-primitives\n",
        "sampler = Sampler(mode=real_backend)\n",
        "\n",
        "# Run calculation\n",
        "job = sampler.run([qobj])\n",
        "\n",
        "result = job.result()"
      ]
    },
    {
      "cell_type": "code",
      "execution_count": null,
      "id": "nFJvRbbsnB2X",
      "metadata": {
        "colab": {
          "base_uri": "https://localhost:8080/",
          "height": 454
        },
        "id": "nFJvRbbsnB2X",
        "outputId": "a0d365e7-7549-462c-9f5a-cba15235cb42"
      },
      "outputs": [],
      "source": [
        "# Print and visualize the results (counts)\n",
        "counts = result[0].data.meas.get_counts()\n",
        "print(counts)\n",
        "plot_histogram(counts) # Display the results"
      ]
    }
  ],
  "metadata": {
    "colab": {
      "provenance": []
    },
    "kernelspec": {
      "display_name": "venv",
      "language": "python",
      "name": "python3"
    },
    "language_info": {
      "codemirror_mode": {
        "name": "ipython",
        "version": 3
      },
      "file_extension": ".py",
      "mimetype": "text/x-python",
      "name": "python",
      "nbconvert_exporter": "python",
      "pygments_lexer": "ipython3",
      "version": "3.13.1"
    }
  },
  "nbformat": 4,
  "nbformat_minor": 5
}
