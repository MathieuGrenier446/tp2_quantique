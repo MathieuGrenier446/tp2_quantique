{
 "cells": [
  {
   "cell_type": "code",
   "execution_count": null,
   "metadata": {},
   "outputs": [],
   "source": [
    "%pip install qiskit \n",
    "%pip install qiskit-aer \n",
    "%pip install pylatexenc \n",
    "%pip install qiskit-ibm-runtime \n",
    "%pip install qiskit-ibm-provider "
   ]
  },
  {
   "cell_type": "markdown",
   "metadata": {},
   "source": [
    "# Implementing Grover's algorithm for the case of 2 qubits with the winning state of |w⟩=|10110⟩"
   ]
  },
  {
   "cell_type": "code",
   "execution_count": null,
   "metadata": {},
   "outputs": [],
   "source": [
    "#initialization\n",
    "import matplotlib.pyplot as plt\n",
    "import numpy as np\n",
    "\n",
    "# importing Qiskit\n",
    "from qiskit import QuantumCircuit, transpile, ClassicalRegister, QuantumRegister\n",
    "from qiskit_aer import AerSimulator\n",
    "from qiskit.visualization import plot_state_city\n",
    "\n",
    "# import basic plot tools\n",
    "from qiskit.visualization import plot_histogram\n"
   ]
  },
  {
   "cell_type": "code",
   "execution_count": 74,
   "metadata": {},
   "outputs": [],
   "source": [
    "def oracle(qc: QuantumCircuit):\n",
    "    qc.mcx([0, 1, 2, 3, 4], 5, ctrl_state='10110')"
   ]
  },
  {
   "cell_type": "code",
   "execution_count": 75,
   "metadata": {},
   "outputs": [],
   "source": [
    "def diffuser(qc: QuantumCircuit):\n",
    "    for qubit in range(5):\n",
    "        qc.h(qubit)\n",
    "    \n",
    "    for qubit in range(5):\n",
    "        qc.x(qubit)\n",
    "    \n",
    "    qc.h(4)\n",
    "    qc.mcx([0, 1, 2, 3], 4)\n",
    "    qc.h(4)\n",
    "    \n",
    "    for qubit in range(5):\n",
    "        qc.x(qubit)\n",
    "    \n",
    "    for qubit in range(5):\n",
    "        qc.h(qubit)"
   ]
  },
  {
   "cell_type": "markdown",
   "metadata": {},
   "source": [
    "# Grover Algorithm"
   ]
  },
  {
   "cell_type": "code",
   "execution_count": 76,
   "metadata": {},
   "outputs": [
    {
     "data": {
      "image/png": "[encoded data removed]",
      "text/plain": [
       "<Figure size 640x480 with 1 Axes>"
      ]
     },
     "execution_count": 76,
     "metadata": {},
     "output_type": "execute_result"
    }
   ],
   "source": [
    "iteration_count = int(np.sqrt(2**5))\n",
    "\n",
    "qc=QuantumCircuit(6, 5)\n",
    "\n",
    "qc.x(5)\n",
    "\n",
    "for i in range(6):\n",
    "    qc.h(i)\n",
    "\n",
    "for i in range(iteration_count):\n",
    "    oracle(qc)\n",
    "    diffuser(qc)\n",
    "\n",
    "qc.measure(range(5), range(5))\n",
    "\n",
    "qc.save_statevector()\n",
    "\n",
    "aer_sim = AerSimulator(method='statevector')\n",
    "qobj = transpile(qc, aer_sim)\n",
    "result = aer_sim.run(qobj).result()\n",
    "\n",
    "counts = result.get_counts()\n",
    "plot_histogram(counts)\n"
   ]
  },
  {
   "cell_type": "code",
   "execution_count": null,
   "metadata": {},
   "outputs": [],
   "source": [
    "state_vector = result.get_statevector()\n",
    "real_parts = state_vector.data.real\n",
    "state_amplitudes = real_parts[:32]\n",
    "\n",
    "\n",
    "num_states = len(state_amplitudes)\n",
    "binary_labels = [f\"{i:05b}\" for i in range(num_states)] \n",
    "\n",
    "\n",
    "plt.figure(figsize=(12, 6))\n",
    "plt.bar(binary_labels, state_amplitudes, color='blue')\n",
    "\n",
    "\n",
    "plt.xlabel('States (Binary)')\n",
    "plt.ylabel('Amplitude')\n",
    "plt.title('Amplitudes of Quantum States')\n",
    "plt.xticks(rotation=90) \n",
    "plt.grid(axis='y', linestyle='--', alpha=0.7)\n",
    "\n",
    "\n",
    "plt.tight_layout() \n",
    "plt.show()"
   ]
  },
  {
   "cell_type": "code",
   "execution_count": 23,
   "metadata": {},
   "outputs": [
    {
     "data": {
      "text/html": [
       "<pre style=\"word-wrap: normal;white-space: pre;background: #fff0;line-height: 1.1;font-family: &quot;Courier New&quot;,Courier,monospace\">     ┌───┐                    ┌───┐                            \n",
       "q_0: ┤ H ├──────■──■──■─────■─┤ H ├────────────────────────────\n",
       "     ├───┤┌───┐ │  │  │     │ └───┘   ┌───┐┌───┐               \n",
       "q_1: ┤ X ├┤ H ├─■──┼──┼──■──┼───■───■─┤ H ├┤ X ├───────────────\n",
       "     ├───┤└───┘    │  │  │  │   │   │ └───┘└───┘┌───┐          \n",
       "q_2: ┤ H ├─────────■──┼──■──┼───┼───┼───■────■──┤ H ├──────────\n",
       "     ├───┤            │     │   │   │   │    │  └───┘┌───┐     \n",
       "q_3: ┤ H ├────────────■─────┼───■───┼───■────┼────■──┤ H ├─────\n",
       "     ├───┤┌───┐             │       │        │    │  ├───┤┌───┐\n",
       "q_4: ┤ X ├┤ H ├─────────────■───────■────────■────■──┤ H ├┤ X ├\n",
       "     └───┘└───┘                                      └───┘└───┘</pre>"
      ],
      "text/plain": [
       "     ┌───┐                    ┌───┐                            \n",
       "q_0: ┤ H ├──────■──■──■─────■─┤ H ├────────────────────────────\n",
       "     ├───┤┌───┐ │  │  │     │ └───┘   ┌───┐┌───┐               \n",
       "q_1: ┤ X ├┤ H ├─■──┼──┼──■──┼───■───■─┤ H ├┤ X ├───────────────\n",
       "     ├───┤└───┘    │  │  │  │   │   │ └───┘└───┘┌───┐          \n",
       "q_2: ┤ H ├─────────■──┼──■──┼───┼───┼───■────■──┤ H ├──────────\n",
       "     ├───┤            │     │   │   │   │    │  └───┘┌───┐     \n",
       "q_3: ┤ H ├────────────■─────┼───■───┼───■────┼────■──┤ H ├─────\n",
       "     ├───┤┌───┐             │       │        │    │  ├───┤┌───┐\n",
       "q_4: ┤ X ├┤ H ├─────────────■───────■────────■────■──┤ H ├┤ X ├\n",
       "     └───┘└───┘                                      └───┘└───┘"
      ]
     },
     "execution_count": 23,
     "metadata": {},
     "output_type": "execute_result"
    }
   ],
   "source": [
    "ctrl_state = \"10110\"\n",
    "\n",
    "bit_count = ctrl_state.__len__()\n",
    "\n",
    "test_circuit = QuantumCircuit(bit_count)\n",
    "\n",
    "for index, char in enumerate(ctrl_state):\n",
    "    if (char==\"0\"):\n",
    "        test_circuit.x(index)\n",
    "for i in range(bit_count):\n",
    "    test_circuit.h(i)    \n",
    "    \n",
    "for i in range(bit_count):\n",
    "    for j in range(bit_count)[i:]:\n",
    "        if (i!=j):\n",
    "            test_circuit.cz(i, j)\n",
    "\n",
    "for i in range(bit_count):\n",
    "    test_circuit.h(i)  \n",
    "\n",
    "for index, char in enumerate(ctrl_state):\n",
    "    if (char==\"0\"):\n",
    "        test_circuit.x(index)\n",
    "test_circuit.draw()\n"
   ]
  },
  {
   "cell_type": "code",
   "execution_count": null,
   "metadata": {},
   "outputs": [],
   "source": [
    "test_circuit.save_statevector()\n",
    "\n",
    "\n",
    "aer_sim = AerSimulator(method='statevector') # Use a noise-free simulator\n",
    "qobj = transpile(test_circuit, aer_sim)\n",
    "result = aer_sim.run(qobj, shots = 4096).result()\n",
    "print(result.get_statevector())"
   ]
  },
  {
   "cell_type": "code",
   "execution_count": 25,
   "metadata": {},
   "outputs": [
    {
     "name": "stderr",
     "output_type": "stream",
     "text": [
      "C:\\Users\\mathi\\AppData\\Local\\Temp\\ipykernel_15280\\3432701146.py:36: UserWarning: set_ticklabels() should only be used with a fixed number of ticks, i.e. after set_ticks() or using a FixedLocator.\n",
      "  a.set_xticklabels(affected_bitstrings, rotation=90)\n",
      "C:\\Users\\mathi\\AppData\\Local\\Temp\\ipykernel_15280\\3432701146.py:36: UserWarning: set_ticklabels() should only be used with a fixed number of ticks, i.e. after set_ticks() or using a FixedLocator.\n",
      "  a.set_xticklabels(affected_bitstrings, rotation=90)\n"
     ]
    },
    {
     "data": {
      "image/png": "[encoded data removed]",
      "text/plain": [
       "<Figure size 800x600 with 2 Axes>"
      ]
     },
     "metadata": {},
     "output_type": "display_data"
    }
   ],
   "source": [
    "import matplotlib.pyplot as plt\n",
    "import numpy as np\n",
    "from qiskit.quantum_info import Statevector\n",
    "\n",
    "# Get statevector data\n",
    "statevector = result.get_statevector()\n",
    "\n",
    "# Extract real parts\n",
    "real_parts = statevector.data.real\n",
    "imag_parts = statevector.data.imag\n",
    "\n",
    "# Generate bitstrings for the x-axis\n",
    "bitstrings = [format(i, f'0{bit_count}b') for i in range(2**bit_count)]\n",
    "\n",
    "# Identify affected states (sign flip due to CZ)\n",
    "affected_indices = [i for i in range(len(real_parts)) if real_parts[i] < 0 or imag_parts[i] < 0]\n",
    "affected_bitstrings = [bitstrings[i] for i in affected_indices]\n",
    "affected_real_parts = [real_parts[i] for i in affected_indices]\n",
    "affected_imag_parts = [imag_parts[i] for i in affected_indices]\n",
    "\n",
    "# Plot real and imaginary parts (only affected states)\n",
    "fig, ax = plt.subplots(2, 1, figsize=(8, 6))\n",
    "\n",
    "# Real part\n",
    "ax[0].bar(affected_bitstrings, affected_real_parts, color=['red' if x < 0 else 'blue' for x in affected_real_parts])\n",
    "ax[0].set_ylabel('Real Part')\n",
    "ax[0].set_title('Real Component of Amplitudes (CZ-Affected Only)')\n",
    "\n",
    "# Imaginary part\n",
    "ax[1].bar(affected_bitstrings, affected_imag_parts, color=['red' if x < 0 else 'blue' for x in affected_imag_parts])\n",
    "ax[1].set_ylabel('Imaginary Part')\n",
    "ax[1].set_title('Imaginary Component of Amplitudes (CZ-Affected Only)')\n",
    "\n",
    "# Formatting\n",
    "for a in ax:\n",
    "    a.set_xticklabels(affected_bitstrings, rotation=90)\n",
    "    a.set_xlabel('Basis States')\n",
    "\n",
    "plt.tight_layout()\n",
    "plt.show()\n"
   ]
  },
  {
   "cell_type": "markdown",
   "metadata": {},
   "source": [
    "## Create the circuit and initalize the qubits"
   ]
  },
  {
   "cell_type": "code",
   "execution_count": null,
   "metadata": {},
   "outputs": [],
   "source": [
    "grover_circuit = QuantumCircuit(n)\n",
    "\n",
    "def initialize_s(qc, qubits):\n",
    "    \"\"\"Apply a H-gate to 'qubits' in qc\"\"\"\n",
    "    for q in qubits:\n",
    "        qc.h(q)\n",
    "    return qc\n",
    "grover_circuit = initialize_s(grover_circuit, [0,1])\n",
    "grover_circuit.draw(output='mpl', style=\"clifford\")"
   ]
  },
  {
   "cell_type": "markdown",
   "metadata": {},
   "source": [
    "## Apply the Oracle (phase inversion) for |w⟩=|11⟩ (Controlled-Z gate in this case)"
   ]
  },
  {
   "cell_type": "code",
   "execution_count": null,
   "metadata": {},
   "outputs": [],
   "source": [
    "grover_circuit.barrier()\n",
    "grover_circuit.cz(0,1) # Oracle\n",
    "grover_circuit.draw(output='mpl')"
   ]
  },
  {
   "cell_type": "markdown",
   "metadata": {},
   "source": [
    "## Apply the diffuser (inversion about the mean)"
   ]
  },
  {
   "cell_type": "code",
   "execution_count": null,
   "metadata": {},
   "outputs": [],
   "source": [
    "# Diffusion operator (U_s)\n",
    "grover_circuit.barrier()\n",
    "grover_circuit.h([0,1])\n",
    "grover_circuit.z([0,1])\n",
    "grover_circuit.cz(0,1)\n",
    "grover_circuit.h([0,1])\n",
    "grover_circuit.barrier()\n",
    "\n",
    "grover_circuit.draw(output='mpl')"
   ]
  },
  {
   "cell_type": "markdown",
   "metadata": {},
   "source": [
    "## Apply measurement"
   ]
  },
  {
   "cell_type": "code",
   "execution_count": null,
   "metadata": {},
   "outputs": [],
   "source": [
    "grover_circuit.measure_all()\n",
    "grover_circuit.draw(output='mpl')"
   ]
  },
  {
   "cell_type": "markdown",
   "metadata": {},
   "source": [
    "## Run the circuit on a noise-free simulator\n",
    "\n",
    "---\n",
    "\n",
    "\n",
    "\n",
    "```\n",
    "# This is formatted as code\n",
    "```\n",
    "\n",
    "simulator"
   ]
  },
  {
   "cell_type": "code",
   "execution_count": 30,
   "metadata": {},
   "outputs": [
    {
     "ename": "QiskitError",
     "evalue": "'No counts for experiment \"0\"'",
     "output_type": "error",
     "traceback": [
      "\u001b[31m---------------------------------------------------------------------------\u001b[39m",
      "\u001b[31mQiskitError\u001b[39m                               Traceback (most recent call last)",
      "\u001b[36mCell\u001b[39m\u001b[36m \u001b[39m\u001b[32mIn[30]\u001b[39m\u001b[32m, line 4\u001b[39m\n\u001b[32m      2\u001b[39m qobj = transpile(grover_circuit, aer_sim)\n\u001b[32m      3\u001b[39m result = aer_sim.run(qobj).result()\n\u001b[32m----> \u001b[39m\u001b[32m4\u001b[39m counts = \u001b[43mresult\u001b[49m\u001b[43m.\u001b[49m\u001b[43mget_counts\u001b[49m\u001b[43m(\u001b[49m\u001b[43m)\u001b[49m\n\u001b[32m      5\u001b[39m plot_histogram(counts)\n",
      "\u001b[36mFile \u001b[39m\u001b[32md:\\polytechnique\\quantique\\tp\\tp2\\tp2_quantique\\venv\\Lib\\site-packages\\qiskit\\result\\result.py:373\u001b[39m, in \u001b[36mResult.get_counts\u001b[39m\u001b[34m(self, experiment)\u001b[39m\n\u001b[32m    371\u001b[39m         dict_list.append(statevector.Statevector(vec).probabilities_dict(decimals=\u001b[32m15\u001b[39m))\n\u001b[32m    372\u001b[39m     \u001b[38;5;28;01melse\u001b[39;00m:\n\u001b[32m--> \u001b[39m\u001b[32m373\u001b[39m         \u001b[38;5;28;01mraise\u001b[39;00m QiskitError(\u001b[33mf\u001b[39m\u001b[33m'\u001b[39m\u001b[33mNo counts for experiment \u001b[39m\u001b[33m\"\u001b[39m\u001b[38;5;132;01m{\u001b[39;00m\u001b[38;5;28mrepr\u001b[39m(key)\u001b[38;5;132;01m}\u001b[39;00m\u001b[33m\"\u001b[39m\u001b[33m'\u001b[39m)\n\u001b[32m    375\u001b[39m \u001b[38;5;66;03m# Return first item of dict_list if size is 1\u001b[39;00m\n\u001b[32m    376\u001b[39m \u001b[38;5;28;01mif\u001b[39;00m \u001b[38;5;28mlen\u001b[39m(dict_list) == \u001b[32m1\u001b[39m:\n",
      "\u001b[31mQiskitError\u001b[39m: 'No counts for experiment \"0\"'"
     ]
    }
   ],
   "source": [
    "aer_sim = sim = AerSimulator(method='statevector') # Use a noise-free simulator\n",
    "qobj = transpile(grover_circuit, aer_sim)\n",
    "result = aer_sim.run(qobj).result()\n",
    "counts = result.get_counts()\n",
    "plot_histogram(counts)"
   ]
  },
  {
   "cell_type": "markdown",
   "metadata": {},
   "source": [
    "## Run the circuit on IBM quantum (IBM Q)"
   ]
  },
  {
   "cell_type": "markdown",
   "metadata": {},
   "source": [
    "### Preparation for accessing IBM Q: store your IBM Q credential on your local computer\n",
    "Step 1: Create an IBM Quantum account or log in to your existing account (visit the [IBM Quantum login page](https://quantum-computing.ibm.com/login)). <br>\n",
    "Step 2: Copy your API token (or optionally regenerate one) from your [IBM Quantum account page](https://quantum-computing.ibm.com/account)\n",
    "<br>\n",
    "Step 3: Run the funciton IBMProvider.save_account(token='MY_API_TOKEN') below (replace API_Token with your copied API toke).\n",
    "<br>\n",
    "For more information: https://pypi.org/project/qiskit-ibm-provider/"
   ]
  },
  {
   "cell_type": "code",
   "execution_count": null,
   "metadata": {},
   "outputs": [],
   "source": [
    "#!pip install qiskit_ibm_provider"
   ]
  },
  {
   "cell_type": "markdown",
   "metadata": {},
   "source": [
    "## Run the circuit on a simulator simulating a quantum device (QPU)\n",
    "https://docs.quantum.ibm.com/guides/local-testing-mode\n"
   ]
  },
  {
   "cell_type": "code",
   "execution_count": null,
   "metadata": {},
   "outputs": [],
   "source": [
    "# Run our circuit on the backend.\n",
    "from qiskit_ibm_runtime import QiskitRuntimeService, Sampler\n",
    "\n",
    "# Replace 'YOUR_API_TOKEN' with your actual IBM Quantum API token\n",
    "token='MY_API_TOKEN'\n",
    "QiskitRuntimeService.save_account(\n",
    "  token=token,\n",
    "  channel=\"ibm_quantum\", # `channel` distinguishes between different account types\n",
    "  overwrite=True\n",
    ")\n",
    "\n",
    "service = QiskitRuntimeService()"
   ]
  },
  {
   "cell_type": "code",
   "execution_count": null,
   "metadata": {},
   "outputs": [],
   "source": [
    "# Specify the backend to use\n",
    "backend = service.backend(\"ibm_sherbrooke\")\n",
    "sim_backend = AerSimulator.from_backend(backend)\n",
    "\n",
    "qobj = transpile(grover_circuit, sim_backend)\n",
    "result = sim_backend.run(qobj, shots = 4096).result()\n",
    "counts = result.get_counts()\n",
    "plot_histogram(counts)"
   ]
  },
  {
   "cell_type": "markdown",
   "metadata": {},
   "source": [
    "## Run the circuit on a real quantum device (QPU)"
   ]
  },
  {
   "cell_type": "code",
   "execution_count": null,
   "metadata": {},
   "outputs": [],
   "source": [
    "# Run our circuit on the backend.\n",
    "from qiskit_ibm_runtime import QiskitRuntimeService, Sampler\n",
    "\n",
    "# Replace 'YOUR_API_TOKEN' with your actual IBM Quantum API token\n",
    "token='MY_API_TOKEN'\n",
    "QiskitRuntimeService.save_account(\n",
    "  token=token,\n",
    "  channel=\"ibm_quantum\", # `channel` distinguishes between different account types\n",
    "  overwrite=True\n",
    ")\n",
    "\n",
    "service = QiskitRuntimeService()"
   ]
  },
  {
   "cell_type": "code",
   "execution_count": null,
   "metadata": {},
   "outputs": [],
   "source": [
    "# choose the least busy QPU\n",
    "real_backend = service.least_busy(simulator=False, operational=True)\n",
    "print(real_backend)"
   ]
  },
  {
   "cell_type": "code",
   "execution_count": null,
   "metadata": {},
   "outputs": [],
   "source": [
    "# Run the circuit on the QPU\n",
    "\n",
    "qobj = transpile(grover_circuit, real_backend)\n",
    "\n",
    "# Define Sampler: https://docs.quantum.ibm.com/guides/get-started-with-primitives\n",
    "sampler = Sampler(mode=real_backend)\n",
    "\n",
    "# Run calculation\n",
    "job = sampler.run([qobj])\n",
    "\n",
    "result = job.result()"
   ]
  },
  {
   "cell_type": "code",
   "execution_count": null,
   "metadata": {},
   "outputs": [],
   "source": [
    "# Print and visualize the results (counts)\n",
    "counts = result[0].data.meas.get_counts()\n",
    "print(counts)\n",
    "plot_histogram(counts) # Display the results"
   ]
  }
 ],
 "metadata": {
  "kernelspec": {
   "display_name": "venv",
   "language": "python",
   "name": "python3"
  },
  "language_info": {
   "codemirror_mode": {
    "name": "ipython",
    "version": 3
   },
   "file_extension": ".py",
   "mimetype": "text/x-python",
   "name": "python",
   "nbconvert_exporter": "python",
   "pygments_lexer": "ipython3",
   "version": "3.13.1"
  }
 },
 "nbformat": 4,
 "nbformat_minor": 2
}
